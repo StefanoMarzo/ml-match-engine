{
 "cells": [
  {
   "cell_type": "markdown",
   "id": "724acfd1",
   "metadata": {},
   "source": [
    "### Imports"
   ]
  },
  {
   "cell_type": "code",
   "execution_count": 1,
   "id": "d3a4123a",
   "metadata": {},
   "outputs": [],
   "source": [
    "# libraries\n",
    "import pandas as pd\n",
    "import unicodedata\n",
    "import re\n",
    "from rank_bm25 import BM25L\n",
    "\n",
    "# Pandas config\n",
    "pd.options.mode.chained_assignment = None  # default='warn'"
   ]
  },
  {
   "cell_type": "markdown",
   "id": "dad7b90c",
   "metadata": {},
   "source": [
    "### Load data"
   ]
  },
  {
   "cell_type": "code",
   "execution_count": 2,
   "id": "ba09d2cc",
   "metadata": {},
   "outputs": [],
   "source": [
    "offers_training_df = pd.read_parquet('../data/offers_training.parquet')\n",
    "offers_test_df = pd.read_parquet('../data/offers_test.parquet')\n",
    "matches_training_df = pd.read_parquet('../data/matches_training.parquet')"
   ]
  },
  {
   "cell_type": "markdown",
   "id": "e8afb0c5",
   "metadata": {},
   "source": [
    "### Process text for data cleaning"
   ]
  },
  {
   "cell_type": "code",
   "execution_count": 3,
   "id": "2639b356",
   "metadata": {},
   "outputs": [],
   "source": [
    "stop_word_list = []\n",
    "with open('./text_processing/german_stopwords.txt', \"r\") as f:\n",
    "    stop_word_list = f.read().split()\n",
    "class TextTransformer:\n",
    "    def processed_text(self, text):\n",
    "        if text is None:\n",
    "            return ''\n",
    "        #lower\n",
    "        processed = text.lower()\n",
    "        #remove accents\n",
    "        processed = self.simplify(processed)\n",
    "        #remove special characters\n",
    "        processed = ''.join(c if c.isalnum() or c == ' ' else ' ' for c in processed)\n",
    "        #remove unnecessary double spaces\n",
    "        processed = re.sub(' +', ' ', processed)\n",
    "        #strip\n",
    "        processed = processed.strip()\n",
    "        #remove stopwords\n",
    "        processed_list = [word for word in processed.split() if word not in stop_word_list]\n",
    "        return ' '.join(processed_list)\n",
    "    \n",
    "    def simplify(self, text):\n",
    "        try:\n",
    "            text = unicode(text, 'utf-8')\n",
    "        except NameError:\n",
    "            pass\n",
    "        text = unicodedata.normalize('NFD', text).encode('ascii', 'ignore').decode(\"utf-8\")\n",
    "        return str(text)\n",
    "with open('color_processing/kfix_de.txt') as f:\n",
    "    color_kfix_list = f.read().splitlines() \n",
    "\n",
    "with open('color_processing/primary_colors_de.txt') as f:\n",
    "    primary_colors = f.read().splitlines() \n",
    "color_matches = {}\n",
    "with open('color_processing/color_matches_de.txt') as f:\n",
    "    for line in f:\n",
    "        (key, val) = line.split(':')\n",
    "        val = val.strip()\n",
    "        color_matches[key] = val\n",
    "with open('title_processing/kfix_de.txt') as f:\n",
    "    clothes_kfix_list = f.read().splitlines() \n",
    "\n",
    "with open('title_processing/primary_clothes_de.txt') as f:\n",
    "    primary_clothes = f.read().splitlines() \n",
    "clothes_matches = {}\n",
    "with open('title_processing/clothes_matches_de.txt') as f:\n",
    "    for line in f:\n",
    "        (key, val) = line.split(':')\n",
    "        val = val.strip()\n",
    "        clothes_matches[key] = val\n",
    "class SpecificTrasformer(TextTransformer):\n",
    "    def __init__(self,\n",
    "                 kfix_list, \n",
    "                 matches, \n",
    "                 primary):\n",
    "        self.kfix_list = kfix_list\n",
    "        self.matches = matches\n",
    "        self.primary = primary\n",
    "    def separe_word(self, text, word):\n",
    "        i = text.find(word)\n",
    "        text = text[:i] + ' ' + text[i:] if i != -1 else text\n",
    "        return text[:i+len(word)+1] + ' ' + text[i+len(word)+1:] if i != -1 else text\n",
    "    def separe_words(self, text):\n",
    "        for color in self.primary:\n",
    "            text = self.separe_word(text, color)\n",
    "        return text\n",
    "    def replace_words(self, text):\n",
    "        for k, v in self.matches.items():\n",
    "            text = text.replace(k, v)\n",
    "        return text\n",
    "    def remove_kfix(self, text):\n",
    "        for suffix in self.kfix_list:\n",
    "            text = text.replace(suffix, '')\n",
    "        return text\n",
    "    \n",
    "    def processed_text(self, text):\n",
    "        splitted = super().processed_text(text).split()\n",
    "        #1 transform matches\n",
    "        splitted = [self.replace_words(text) for text in splitted]\n",
    "        #2 suffix removal\n",
    "        splitted = [self.remove_kfix(text) for text in splitted]\n",
    "        #separate primary colors\n",
    "        splitted = [self.separe_words(term) for term in splitted]\n",
    "        return re.sub(' +', ' ', ' '.join(splitted).strip())"
   ]
  },
  {
   "cell_type": "markdown",
   "id": "8b7707a6",
   "metadata": {},
   "source": [
    "### Instance of text transformers"
   ]
  },
  {
   "cell_type": "code",
   "execution_count": 4,
   "id": "1362ca8c",
   "metadata": {},
   "outputs": [],
   "source": [
    "tt = TextTransformer()\n",
    "ct = SpecificTrasformer(color_kfix_list, color_matches, primary_colors)\n",
    "titlet = SpecificTrasformer(clothes_kfix_list, clothes_matches, primary_clothes)"
   ]
  },
  {
   "cell_type": "markdown",
   "id": "c6e4663b",
   "metadata": {},
   "source": [
    "### Clean DFs"
   ]
  },
  {
   "cell_type": "code",
   "execution_count": 5,
   "id": "787dd6a0",
   "metadata": {},
   "outputs": [],
   "source": [
    "zalando_prod_training = offers_training_df.loc[offers_training_df['shop'] == 'zalando']\n",
    "zalando_prod_training = zalando_prod_training\\\n",
    "                    .loc[zalando_prod_training['offer_id'].isin(matches_training_df['zalando'])]\n",
    "zalando_prod_training['brand'] = zalando_prod_training['brand']\\\n",
    "                    .apply(lambda x: tt.processed_text(x))\n",
    "zalando_prod_training['title'] = zalando_prod_training['title']\\\n",
    "                    .apply(lambda x: titlet.processed_text(x))\n",
    "zalando_prod_training['color'] = zalando_prod_training['color']\\\n",
    "                    .apply(lambda x: ct.processed_text(x))\n",
    "\n",
    "aboutyou_prod_training = offers_training_df.loc[offers_training_df['shop'] == 'aboutyou']\n",
    "aboutyou_prod_training['brand'] = aboutyou_prod_training['brand']\\\n",
    "                    .apply(lambda x: tt.processed_text(x))\n",
    "aboutyou_prod_training['title'] = aboutyou_prod_training['title']\\\n",
    "                    .apply(lambda x: titlet.processed_text(x))\n",
    "aboutyou_prod_training['color'] = aboutyou_prod_training['color']\\\n",
    "                    .apply(lambda x: ct.processed_text(x))\n",
    "\n",
    "offer_test_clean = offers_test_df.copy()\n",
    "offer_test_clean['title'] = offer_test_clean['title']\\\n",
    "                    .apply(lambda x: titlet.processed_text(x))\n",
    "offer_test_clean['color'] = offer_test_clean['color']\\\n",
    "                    .apply(lambda x: ct.processed_text(x))\n",
    "\n",
    "df_offers = pd.DataFrame(columns=['offer_id', 'shop', 'lang', 'brand', 'title', 'color'])\n",
    "df_offers = df_offers.append(zalando_prod_training, ignore_index=True)\n",
    "df_offers = df_offers.append(aboutyou_prod_training, ignore_index=True)"
   ]
  },
  {
   "cell_type": "markdown",
   "id": "b82729ee",
   "metadata": {},
   "source": [
    "### BM25 setup"
   ]
  },
  {
   "cell_type": "code",
   "execution_count": 6,
   "id": "0c07c4fa",
   "metadata": {},
   "outputs": [],
   "source": [
    "class TextRelevance:\n",
    "    def __init__(self, text, relevance):\n",
    "        self.text = text\n",
    "        self.relevance = relevance\n",
    "    def __repr__(self):\n",
    "        return self.text + ' ' + str(self.relevance)\n",
    "    def __eq__(self, other):\n",
    "        return self.text == other.text\n",
    "    def __hash__(self):\n",
    "        return hash(self.text)"
   ]
  },
  {
   "cell_type": "code",
   "execution_count": 7,
   "id": "c2c9b4ed",
   "metadata": {},
   "outputs": [],
   "source": [
    "class BM25Z(BM25L):\n",
    "    def __init__(self, corpus):\n",
    "        super().__init__(self.process_list(corpus))\n",
    "        self.corpus = self.process_list(corpus)\n",
    "    def process_list(self, titles_list):\n",
    "        return [text.split() for text in titles_list if text is not None]\n",
    "    def processed_text(self, text):\n",
    "        return tt.processed_text(text)\n",
    "    def get_corpus_str(self):\n",
    "        return [' '.join(el) for el in self.corpus]\n",
    "    def get_corpus_scores(self, query):\n",
    "        query = self.processed_text(query).split()\n",
    "        return [TextRelevance(x,y) for x, y in zip(self.get_corpus_str(), self.get_scores(query))]\n",
    "    def get_relevant_results(self, query, threshold=0):\n",
    "        res = [el for el in self.get_corpus_scores(query) if el.relevance > threshold]\n",
    "        res = sorted(res, key=lambda x: x.relevance, reverse=True)\n",
    "        return res"
   ]
  },
  {
   "cell_type": "markdown",
   "id": "62ed5c82",
   "metadata": {},
   "source": [
    "### Test coverage of primary_clothes"
   ]
  },
  {
   "cell_type": "code",
   "execution_count": 8,
   "id": "3df93719",
   "metadata": {},
   "outputs": [],
   "source": [
    "#Set of all \"clothes terms\" mined\n",
    "set_title_terms = set(primary_clothes)\n",
    "#Set of all titles in DF\n",
    "set_titles = set(list(zalando_prod_training['title'].values)\\\n",
    "                 + list(df_offers['title'].values)\n",
    "                )\n",
    "\n",
    "bm25_title = BM25Z(set_titles)\n",
    "\n",
    "list_title_retrieved = []\n",
    "for t in set_title_terms:\n",
    "    list_title_retrieved += [t.text for t in bm25_title.get_relevant_results(t)]"
   ]
  },
  {
   "cell_type": "code",
   "execution_count": 9,
   "id": "efbc007e",
   "metadata": {},
   "outputs": [
    {
     "name": "stdout",
     "output_type": "stream",
     "text": [
      "93.35% of product titles belongs to bag of words mined\n",
      "103 distinct terms are present in 171662 product titles\n"
     ]
    }
   ],
   "source": [
    "set_title_retrieved = set(list_title_retrieved)\n",
    "perc_belong = round(len(set_title_retrieved)/len(set_titles)*100,2)\n",
    "n_product_checked = len(offer_test_clean) + len(df_offers)\n",
    "print(f'{perc_belong}% of product titles belongs to bag of words mined')\n",
    "print(f'{len(set_title_terms)} distinct terms are present in {round(n_product_checked * perc_belong / 100)} product titles')"
   ]
  },
  {
   "cell_type": "markdown",
   "id": "03fca38d",
   "metadata": {},
   "source": [
    "### Test coverage of primary_colors"
   ]
  },
  {
   "cell_type": "code",
   "execution_count": 10,
   "id": "f7cb1c39",
   "metadata": {},
   "outputs": [],
   "source": [
    "#Set of all \"color terms\" mined\n",
    "set_color_terms = set(primary_colors)\n",
    "#Set of all titles in DF\n",
    "set_colors = set(list(zalando_prod_training['color'].values)\\\n",
    "                 + list(df_offers['color'].values)\n",
    "                )\n",
    "\n",
    "bm25_color = BM25Z(set_colors)\n",
    "\n",
    "list_color_retrieved = []\n",
    "for t in set_color_terms:\n",
    "    list_color_retrieved += [t.text for t in bm25_color.get_relevant_results(t)]"
   ]
  },
  {
   "cell_type": "code",
   "execution_count": 11,
   "id": "043e8f29",
   "metadata": {},
   "outputs": [
    {
     "name": "stdout",
     "output_type": "stream",
     "text": [
      "99.7% of product colors belongs to bag of words mined\n",
      "16 distinct terms are present in 183339 product colors\n"
     ]
    }
   ],
   "source": [
    "set_color_retrieved = set(list_color_retrieved)\n",
    "perc_color_belong = round(len(set_color_retrieved)/len(set_colors)*100,2)\n",
    "n_product_checked = len(offer_test_clean) + len(df_offers)\n",
    "print(f'{perc_color_belong}% of product colors belongs to bag of words mined')\n",
    "print(f'{len(set_color_terms)} distinct terms are present in {round(n_product_checked * perc_color_belong / 100)} product colors')"
   ]
  },
  {
   "cell_type": "markdown",
   "id": "8ebd5172",
   "metadata": {},
   "source": [
    "### Create title categories"
   ]
  },
  {
   "cell_type": "code",
   "execution_count": 12,
   "id": "a9362de8",
   "metadata": {},
   "outputs": [],
   "source": [
    "def create_category(record, bag_of_terms, attribute):\n",
    "    l = []\n",
    "    for term in bag_of_terms:\n",
    "        if term in record[attribute]:\n",
    "            c = record[attribute].count(term)\n",
    "            l += [term + str(c)]\n",
    "    return '-'.join(l)"
   ]
  },
  {
   "cell_type": "code",
   "execution_count": 13,
   "id": "c4935f6f",
   "metadata": {},
   "outputs": [],
   "source": [
    "title_categories = []\n",
    "for i in df_offers.index:\n",
    "    title_categories += [create_category(df_offers.loc[i], set_title_terms, 'title')]"
   ]
  },
  {
   "cell_type": "code",
   "execution_count": 14,
   "id": "4c6521f0",
   "metadata": {},
   "outputs": [],
   "source": [
    "title_enumeration = {}\n",
    "t_i = 0\n",
    "for title in set(title_categories):\n",
    "    title_enumeration[title] = t_i\n",
    "    t_i += 1"
   ]
  },
  {
   "cell_type": "markdown",
   "id": "ea2cf99f",
   "metadata": {},
   "source": [
    "### Create color categories"
   ]
  },
  {
   "cell_type": "code",
   "execution_count": 15,
   "id": "6d7dfe6e",
   "metadata": {},
   "outputs": [],
   "source": [
    "color_categories = []\n",
    "for i in df_offers.index:\n",
    "    color_categories += [create_category(df_offers.loc[i], set_color_terms, 'color')]"
   ]
  },
  {
   "cell_type": "code",
   "execution_count": 16,
   "id": "3388684e",
   "metadata": {},
   "outputs": [],
   "source": [
    "color_enumeration = {}\n",
    "c_i = 0\n",
    "for title in set(color_categories):\n",
    "    color_enumeration[title] = c_i\n",
    "    c_i += 1"
   ]
  },
  {
   "cell_type": "markdown",
   "id": "1f1f8e3b",
   "metadata": {},
   "source": [
    "### Brand analysis"
   ]
  },
  {
   "cell_type": "code",
   "execution_count": 17,
   "id": "6c2b9c26",
   "metadata": {},
   "outputs": [],
   "source": [
    "class Brand:\n",
    "    def __init__(self, name, parent=None, child=list()):\n",
    "        self.name = name\n",
    "        self.parent = parent\n",
    "        self.child = child\n",
    "        \n",
    "class BrandCollection:\n",
    "    def __init__(self, brand_list):\n",
    "        self.brands = {}\n",
    "        self.brand_family = {}\n",
    "        self.manual_matches = {}\n",
    "        #brand_list = [TextTransformer(x).processed_text() for x in brand_list]\n",
    "        brand_list.sort()\n",
    "        for el in brand_list:\n",
    "            self.process_brand(Brand(el))\n",
    "    \n",
    "    def process_brand(self, brand):\n",
    "        if brand.name not in self.brands:\n",
    "            parent_likelyhood = 0\n",
    "            likely_parent = None\n",
    "            for k in self.brands.keys():\n",
    "                comp = self.brands[k]\n",
    "                l_comp = self.listify(comp, brand)\n",
    "                l_brand = self.listify(brand, comp)\n",
    "                calc_likelyhood = self.parent_likelyhood(l_comp, l_brand)\n",
    "                if calc_likelyhood > parent_likelyhood:\n",
    "                    parent_likelyhood = calc_likelyhood\n",
    "                    brand.parent = comp\n",
    "                    likely_parent = self.brands[comp.name]\n",
    "            self.brands[brand.name] = brand\n",
    "            self.brand_family[brand] = []\n",
    "            if likely_parent is not None:\n",
    "                self.brand_family[likely_parent].append(brand)\n",
    "    \n",
    "    def listify(self, brand, to_compare):\n",
    "        l_brand = brand.name.split()\n",
    "        l_comp = to_compare.name.split()\n",
    "        max_len = len(l_brand) if len(l_brand) > len(l_comp) else len(l_comp)\n",
    "        if len(l_brand) == max_len:\n",
    "            return l_brand\n",
    "        for i in range(max_len - len(l_brand)):\n",
    "            l_brand += ['']\n",
    "        return l_brand\n",
    "    \n",
    "    def parent_likelyhood(self, l_comp, l_brand):\n",
    "        likelyhood = 0\n",
    "        #check longest matching n-gram, does not check for combinations\n",
    "        for i in range(len(l_comp)):\n",
    "            if l_comp[i] == l_brand[i]:\n",
    "                likelyhood += 1\n",
    "            else:\n",
    "                return likelyhood\n",
    "        return likelyhood\n",
    "    \n",
    "    def similarity(self, str_1, str_2):\n",
    "        return textdistance.levenshtein.normalized_similarity(str_1, str_2)\n",
    "    \n",
    "    def get_match(self, brand_query):\n",
    "        brand_to_search = Brand(tt.processed_text(brand_query))\n",
    "        if brand_to_search.name in self.brands:\n",
    "            selected_brand = self.brands[brand_to_search.name]\n",
    "            while selected_brand.parent is not None:\n",
    "                selected_brand = selected_brand.parent\n",
    "            brands = self.get_brand_family(selected_brand.name)\n",
    "            return brands, 1\n",
    "        else:\n",
    "            relevance = 0\n",
    "            most_relevant = '-'\n",
    "            for key in self.brands.keys():\n",
    "                sim = self.similarity(brand_to_search.name, self.brands[key].name)\n",
    "                if sim > relevance:\n",
    "                    relevance = sim\n",
    "                    most_relevant = self.brands[key].name\n",
    "            brands = self.get_brand_family(most_relevant)\n",
    "            return brands, relevance\n",
    "            \n",
    "    def get_brand_family(self, brand_name):\n",
    "        fam_list = [brand_name]\n",
    "        family = []\n",
    "        while len(fam_list) != 0:\n",
    "            current = fam_list[0]\n",
    "            fam_list += [b.name for b in self.brand_family[self.brands[current]]]\n",
    "            fam_list.remove(current)\n",
    "            if current not in family:\n",
    "                family += [current]\n",
    "        if brand_name in self.manual_matches.keys():\n",
    "            family += self.manual_matches[brand_name]\n",
    "        return list(set(family))\n",
    "    \n",
    "    def add_manual_match(self, brand_a, brand_b):\n",
    "        if brand_a not in self.manual_matches.keys():\n",
    "            self.manual_matches[brand_a] = [brand_b]\n",
    "        else:\n",
    "            if brand_b not in self.manual_matches[brand_a]:\n",
    "                self.manual_matches[brand_a] += [brand_b]\n",
    "                \n",
    "        if brand_b not in self.manual_matches.keys():\n",
    "            self.manual_matches[brand_b] = [brand_a]\n",
    "        else:\n",
    "            if brand_a not in self.manual_matches[brand_b]:\n",
    "                self.manual_matches[brand_b] += [brand_a]"
   ]
  },
  {
   "cell_type": "code",
   "execution_count": 18,
   "id": "06836b77",
   "metadata": {},
   "outputs": [],
   "source": [
    "brand_collection = BrandCollection(list(zalando_prod_training['brand']) + list(aboutyou_prod_training['brand']))"
   ]
  },
  {
   "cell_type": "code",
   "execution_count": 19,
   "id": "a4ad605e",
   "metadata": {},
   "outputs": [],
   "source": [
    "brand_enumeration = {}\n",
    "b_i = 0\n",
    "for brand in brand_collection.brands.keys():\n",
    "    brand_enumeration[brand] = b_i\n",
    "    b_i += 1"
   ]
  },
  {
   "cell_type": "markdown",
   "id": "9ffc8ad5",
   "metadata": {},
   "source": [
    "### Create table of categorical values "
   ]
  },
  {
   "cell_type": "code",
   "execution_count": 20,
   "id": "32f08589",
   "metadata": {},
   "outputs": [
    {
     "data": {
      "text/html": [
       "<div>\n",
       "<style scoped>\n",
       "    .dataframe tbody tr th:only-of-type {\n",
       "        vertical-align: middle;\n",
       "    }\n",
       "\n",
       "    .dataframe tbody tr th {\n",
       "        vertical-align: top;\n",
       "    }\n",
       "\n",
       "    .dataframe thead th {\n",
       "        text-align: right;\n",
       "    }\n",
       "</style>\n",
       "<table border=\"1\" class=\"dataframe\">\n",
       "  <thead>\n",
       "    <tr style=\"text-align: right;\">\n",
       "      <th></th>\n",
       "      <th>brand</th>\n",
       "      <th>title</th>\n",
       "      <th>color</th>\n",
       "    </tr>\n",
       "  </thead>\n",
       "  <tbody>\n",
       "    <tr>\n",
       "      <th>0</th>\n",
       "      <td>83</td>\n",
       "      <td>398</td>\n",
       "      <td>577</td>\n",
       "    </tr>\n",
       "    <tr>\n",
       "      <th>1</th>\n",
       "      <td>83</td>\n",
       "      <td>566</td>\n",
       "      <td>1995</td>\n",
       "    </tr>\n",
       "    <tr>\n",
       "      <th>2</th>\n",
       "      <td>83</td>\n",
       "      <td>366</td>\n",
       "      <td>1995</td>\n",
       "    </tr>\n",
       "    <tr>\n",
       "      <th>3</th>\n",
       "      <td>45</td>\n",
       "      <td>247</td>\n",
       "      <td>0</td>\n",
       "    </tr>\n",
       "    <tr>\n",
       "      <th>4</th>\n",
       "      <td>69</td>\n",
       "      <td>628</td>\n",
       "      <td>2321</td>\n",
       "    </tr>\n",
       "    <tr>\n",
       "      <th>...</th>\n",
       "      <td>...</td>\n",
       "      <td>...</td>\n",
       "      <td>...</td>\n",
       "    </tr>\n",
       "    <tr>\n",
       "      <th>77145</th>\n",
       "      <td>49</td>\n",
       "      <td>0</td>\n",
       "      <td>166</td>\n",
       "    </tr>\n",
       "    <tr>\n",
       "      <th>77146</th>\n",
       "      <td>77</td>\n",
       "      <td>146</td>\n",
       "      <td>2084</td>\n",
       "    </tr>\n",
       "    <tr>\n",
       "      <th>77147</th>\n",
       "      <td>38</td>\n",
       "      <td>118</td>\n",
       "      <td>1246</td>\n",
       "    </tr>\n",
       "    <tr>\n",
       "      <th>77148</th>\n",
       "      <td>103</td>\n",
       "      <td>472</td>\n",
       "      <td>1712</td>\n",
       "    </tr>\n",
       "    <tr>\n",
       "      <th>77149</th>\n",
       "      <td>96</td>\n",
       "      <td>146</td>\n",
       "      <td>1758</td>\n",
       "    </tr>\n",
       "  </tbody>\n",
       "</table>\n",
       "<p>77150 rows × 3 columns</p>\n",
       "</div>"
      ],
      "text/plain": [
       "      brand title color\n",
       "0        83   398   577\n",
       "1        83   566  1995\n",
       "2        83   366  1995\n",
       "3        45   247     0\n",
       "4        69   628  2321\n",
       "...     ...   ...   ...\n",
       "77145    49     0   166\n",
       "77146    77   146  2084\n",
       "77147    38   118  1246\n",
       "77148   103   472  1712\n",
       "77149    96   146  1758\n",
       "\n",
       "[77150 rows x 3 columns]"
      ]
     },
     "execution_count": 20,
     "metadata": {},
     "output_type": "execute_result"
    }
   ],
   "source": [
    "df_cat_brand_title_color = pd.DataFrame(columns=['brand', 'title', 'color'])\n",
    "\n",
    "for i in df_offers.index:\n",
    "    try:\n",
    "        b_e = brand_enumeration[df_offers.loc[i]['brand']]\n",
    "        t_e = title_enumeration[create_category(df_offers.loc[i], set_title_terms, 'title')]\n",
    "        c_e = color_enumeration[create_category(df_offers.loc[i], set_color_terms, 'color')]\n",
    "        row = {'brand':b_e, 'title': t_e, 'color': c_e}\n",
    "        df_cat_brand_title_color = df_cat_brand_title_color.append(row, ignore_index=True)\n",
    "    except:\n",
    "        pass\n",
    "df_cat_brand_title_color"
   ]
  },
  {
   "cell_type": "markdown",
   "id": "8316dd3f",
   "metadata": {},
   "source": [
    "### Save Table of Categorical encode for Brand-Title-Color"
   ]
  },
  {
   "cell_type": "code",
   "execution_count": 21,
   "id": "f88c41c1",
   "metadata": {},
   "outputs": [],
   "source": [
    "df_cat_brand_title_color.to_parquet('brand_title_color.parquet')"
   ]
  },
  {
   "cell_type": "markdown",
   "id": "62cb8f6e",
   "metadata": {},
   "source": [
    "### $\\chi^2$ for testing independance Brand-Title"
   ]
  },
  {
   "cell_type": "code",
   "execution_count": 22,
   "id": "9aa9cd9a",
   "metadata": {},
   "outputs": [],
   "source": [
    "# chi-squared test with similar proportions\n",
    "from scipy.stats import chi2_contingency\n",
    "from scipy.stats import chi2\n",
    "\n",
    "#sample\n",
    "#df_cat_brand_title_color = df_cat_brand_title_color.sample(1000)\n",
    "\n",
    "# contingency tables\n",
    "cont_table_title_color = pd.crosstab(df_cat_brand_title_color['title'], df_cat_brand_title_color['color'])\n",
    "cont_table_brand_color = pd.crosstab(df_cat_brand_title_color['brand'], df_cat_brand_title_color['color'])\n",
    "cont_table_title_brand = pd.crosstab(df_cat_brand_title_color['title'], df_cat_brand_title_color['brand'])"
   ]
  },
  {
   "cell_type": "code",
   "execution_count": 23,
   "id": "fc84cc32",
   "metadata": {},
   "outputs": [
    {
     "name": "stdout",
     "output_type": "stream",
     "text": [
      "################ Title and color Dependency test ################\n",
      "dof=1899018\n",
      "probability=0.950, critical=1902224.718, stat=1234336.960\n",
      "Title and Color are Independent (fail to reject H0)\n",
      "significance=0.050, p=1.000\n",
      "Title and Color are Independent (fail to reject H0)\n",
      "#################################################################\n"
     ]
    }
   ],
   "source": [
    "print('################ Title and color Dependency test ################')\n",
    "stat_tc, p_tc, dof_tc, expected_tc = chi2_contingency(cont_table_title_color)\n",
    "print('dof=%d' % dof_tc)\n",
    "#print(expected)\n",
    "# interpret test-statistic\n",
    "prob = 0.95\n",
    "critical_tc = chi2.ppf(prob, dof_tc)\n",
    "print('probability=%.3f, critical=%.3f, stat=%.3f' % (prob, critical_tc, stat_tc))\n",
    "if abs(stat_tc) >= critical_tc:\n",
    "    print('Title and Color are Dependent (reject H0)')\n",
    "else:\n",
    "    print('Title and Color are Independent (fail to reject H0)')\n",
    "# interpret p-value\n",
    "alpha = 1.0 - prob\n",
    "print('significance=%.3f, p=%.3f' % (alpha, p_tc))\n",
    "if p_tc <= alpha:\n",
    "    print('Title and Color are Dependent (reject H0)')\n",
    "else:\n",
    "    print('Title and Color are Independent (fail to reject H0)')\n",
    "print('#################################################################')"
   ]
  },
  {
   "cell_type": "code",
   "execution_count": 24,
   "id": "59933245",
   "metadata": {},
   "outputs": [
    {
     "name": "stdout",
     "output_type": "stream",
     "text": [
      "################ Brand and color Dependency test ################\n",
      "dof=267714\n",
      "probability=0.950, critical=268918.724, stat=481416.185\n",
      "Brand and Color are Dependent (reject H0)\n",
      "significance=0.050, p=0.000\n",
      "Brand and Color are Dependent (reject H0)\n",
      "#################################################################\n"
     ]
    }
   ],
   "source": [
    "print('################ Brand and color Dependency test ################')\n",
    "stat_bc, p_bc, dof_bc, expected_bc = chi2_contingency(cont_table_brand_color)\n",
    "print('dof=%d' % dof_bc)\n",
    "#print(expected)\n",
    "# interpret test-statistic\n",
    "prob = 0.95\n",
    "critical_bc = chi2.ppf(prob, dof_bc)\n",
    "print('probability=%.3f, critical=%.3f, stat=%.3f' % (prob, critical_bc, stat_bc))\n",
    "if abs(stat_bc) >= critical_bc:\n",
    "    print('Brand and Color are Dependent (reject H0)')\n",
    "else:\n",
    "    print('Brand and Color are Independent (fail to reject H0)')\n",
    "# interpret p-value\n",
    "alpha = 1.0 - prob\n",
    "print('significance=%.3f, p=%.3f' % (alpha, p_bc))\n",
    "if p_bc <= alpha:\n",
    "    print('Brand and Color are Dependent (reject H0)')\n",
    "else:\n",
    "    print('Brand and Color are Independent (fail to reject H0)')\n",
    "print('#################################################################')"
   ]
  },
  {
   "cell_type": "code",
   "execution_count": 25,
   "id": "00f6872c",
   "metadata": {},
   "outputs": [
    {
     "name": "stdout",
     "output_type": "stream",
     "text": [
      "################ Title and brand Dependency test ################\n",
      "dof=81213\n",
      "probability=0.950, critical=81877.046, stat=577109.109\n",
      "Title and Brand are Dependent (reject H0)\n",
      "significance=0.050, p=0.000\n",
      "Title and Brand are Dependent (reject H0)\n",
      "#################################################################\n"
     ]
    }
   ],
   "source": [
    "print('################ Title and brand Dependency test ################')\n",
    "stat_tb, p_tb, dof_tb, expected_tb = chi2_contingency(cont_table_title_brand)\n",
    "print('dof=%d' % dof_tb)\n",
    "#print(expected)\n",
    "# interpret test-statistic\n",
    "prob = 0.95\n",
    "critical_tb = chi2.ppf(prob, dof_tb)\n",
    "print('probability=%.3f, critical=%.3f, stat=%.3f' % (prob, critical_tb, stat_tb))\n",
    "if abs(stat_tb) >= critical_tb:\n",
    "    print('Title and Brand are Dependent (reject H0)')\n",
    "else:\n",
    "    print('Title and Brand are Independent (fail to reject H0)')\n",
    "# interpret p-value\n",
    "alpha = 1.0 - prob\n",
    "print('significance=%.3f, p=%.3f' % (alpha, p_tb))\n",
    "if p_tb <= alpha:\n",
    "    print('Title and Brand are Dependent (reject H0)')\n",
    "else:\n",
    "    print('Title and Brand are Independent (fail to reject H0)')\n",
    "print('#################################################################')"
   ]
  },
  {
   "cell_type": "code",
   "execution_count": 26,
   "id": "e852a5e4",
   "metadata": {},
   "outputs": [
    {
     "name": "stdout",
     "output_type": "stream",
     "text": [
      "Brand-Color Pearsons correlation: -0.001\n",
      "Brand-Title Pearsons correlation: 0.041\n"
     ]
    }
   ],
   "source": [
    "# calculate the Pearson's correlation between brand and color\n",
    "# Pearson's correlation identifies liner relationship\n",
    "from scipy.stats import pearsonr\n",
    "corr, _ = pearsonr(df_cat_brand_title_color['brand'], df_cat_brand_title_color['color'])\n",
    "print('Brand-Color Pearsons correlation: %.3f' % corr)\n",
    "\n",
    "# calculate the Pearson's correlation between brand and title\n",
    "corr, _ = pearsonr(df_cat_brand_title_color['brand'], df_cat_brand_title_color['title'])\n",
    "print('Brand-Title Pearsons correlation: %.3f' % corr)"
   ]
  },
  {
   "cell_type": "code",
   "execution_count": 27,
   "id": "421dd4e8",
   "metadata": {},
   "outputs": [
    {
     "name": "stdout",
     "output_type": "stream",
     "text": [
      "Brand-Color Spearmans correlation: 0.004\n",
      "Brand-Title Spearmans correlation: 0.041\n"
     ]
    }
   ],
   "source": [
    "# calculate the Spearmans's correlation between brand and color\n",
    "# Spearmans's correlation identifies non-liner relationship\n",
    "from scipy.stats import spearmanr\n",
    "corr, _ = spearmanr(df_cat_brand_title_color['brand'], df_cat_brand_title_color['color'])\n",
    "print('Brand-Color Spearmans correlation: %.3f' % corr)\n",
    "\n",
    "# calculate the Spearmans's correlation between brand and title\n",
    "corr, _ = spearmanr(df_cat_brand_title_color['brand'], df_cat_brand_title_color['title'])\n",
    "print('Brand-Title Spearmans correlation: %.3f' % corr)"
   ]
  }
 ],
 "metadata": {
  "kernelspec": {
   "display_name": "Python 3 (ipykernel)",
   "language": "python",
   "name": "python3"
  },
  "language_info": {
   "codemirror_mode": {
    "name": "ipython",
    "version": 3
   },
   "file_extension": ".py",
   "mimetype": "text/x-python",
   "name": "python",
   "nbconvert_exporter": "python",
   "pygments_lexer": "ipython3",
   "version": "3.7.3"
  }
 },
 "nbformat": 4,
 "nbformat_minor": 5
}
