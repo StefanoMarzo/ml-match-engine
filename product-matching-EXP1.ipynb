{
 "cells": [
  {
   "cell_type": "code",
   "execution_count": 1,
   "id": "f365cc7c",
   "metadata": {},
   "outputs": [],
   "source": [
    "# libraries\n",
    "import os\n",
    "from datetime import datetime\n",
    "import pandas as pd\n",
    "import numpy as np\n",
    "import matplotlib.pyplot as plt\n",
    "import re\n",
    "import unicodedata\n",
    "import time\n",
    "from rank_bm25 import BM25L\n",
    "import pickle\n",
    "\n",
    "\n",
    "# Matplotlib configuration\n",
    "font = { 'family': 'DejaVu Sans', 'weight': 'bold', 'size': 16 }\n",
    "plt.rc('font', **font)\n",
    "\n",
    "# Pandas config\n",
    "pd.options.mode.chained_assignment = None  # default='warn'"
   ]
  },
  {
   "cell_type": "markdown",
   "id": "027b2f9a",
   "metadata": {},
   "source": [
    "### Load ground truth dataset"
   ]
  },
  {
   "cell_type": "code",
   "execution_count": 2,
   "id": "57d90cd3",
   "metadata": {},
   "outputs": [],
   "source": [
    "matches_training_df = pd.read_parquet('data/matches_training.parquet')\n",
    "offers_testing_df = pd.read_parquet('data/offers_test.parquet')"
   ]
  },
  {
   "cell_type": "markdown",
   "id": "10760054",
   "metadata": {},
   "source": [
    "### Run utils script\n",
    "Loads functions for exploration, metrics, and image retrieval"
   ]
  },
  {
   "cell_type": "code",
   "execution_count": 3,
   "id": "e8872b7f",
   "metadata": {},
   "outputs": [],
   "source": [
    "#Explore matches, metrics\n",
    "%run ./utils/utils.py\n",
    "\n",
    "#use get_img(url)\n",
    "%run ./utils/img-manager.py"
   ]
  },
  {
   "cell_type": "markdown",
   "id": "a0bb8917",
   "metadata": {},
   "source": [
    "## Brand analysis"
   ]
  },
  {
   "cell_type": "markdown",
   "id": "74ecbc25",
   "metadata": {},
   "source": [
    "### Brand text processing\n",
    "- Lower case text\n",
    "- Accented vowels removal `è, é, ... -> e`\n",
    "- Stop words removal (German)"
   ]
  },
  {
   "cell_type": "code",
   "execution_count": 4,
   "id": "3b29dde8",
   "metadata": {},
   "outputs": [],
   "source": [
    "stop_word_list = []\n",
    "\n",
    "with open('processing/text_processing/german_stopwords.txt', \"r\") as f:\n",
    "    stop_word_list = f.read().split()"
   ]
  },
  {
   "cell_type": "markdown",
   "id": "1c5f51e9",
   "metadata": {},
   "source": [
    "### Class for applying general purpose text transformations"
   ]
  },
  {
   "cell_type": "code",
   "execution_count": 5,
   "id": "030b1c91",
   "metadata": {},
   "outputs": [],
   "source": [
    "class TextTransformer:\n",
    "    def processed_text(self, text):\n",
    "        if text is None:\n",
    "            return ''\n",
    "        #lower\n",
    "        processed = text.lower()\n",
    "        #remove accents\n",
    "        processed = self.simplify(processed)\n",
    "        #remove special characters\n",
    "        processed = ''.join(c if c.isalnum() or c == ' ' else ' ' for c in processed)\n",
    "        #remove unnecessary double spaces\n",
    "        processed = re.sub(' +', ' ', processed)\n",
    "        #strip\n",
    "        processed = processed.strip()\n",
    "        #remove stopwords\n",
    "        processed_list = [word for word in processed.split() if word not in stop_word_list]\n",
    "        return ' '.join(processed_list)\n",
    "    \n",
    "    def simplify(self, text):\n",
    "        try:\n",
    "            text = unicode(text, 'utf-8')\n",
    "        except NameError:\n",
    "            pass\n",
    "        text = unicodedata.normalize('NFD', text).encode('ascii', 'ignore').decode(\"utf-8\")\n",
    "        return str(text)"
   ]
  },
  {
   "cell_type": "markdown",
   "id": "ddfdb8a3",
   "metadata": {},
   "source": [
    "### Read files for german colors transformation"
   ]
  },
  {
   "cell_type": "code",
   "execution_count": 6,
   "id": "b9b5f8b3",
   "metadata": {},
   "outputs": [],
   "source": [
    "with open('processing/color_processing/kfix_de.txt') as f:\n",
    "    color_kfix_list = f.read().splitlines() \n",
    "\n",
    "with open('processing/color_processing/primary_colors_de.txt') as f:\n",
    "    primary_colors = f.read().splitlines() \n",
    "color_matches = {}\n",
    "with open('processing/color_processing/color_matches_de.txt') as f:\n",
    "    for line in f:\n",
    "        (key, val) = line.split(':')\n",
    "        val = val.strip()\n",
    "        color_matches[key] = val"
   ]
  },
  {
   "cell_type": "markdown",
   "id": "1d98a0df",
   "metadata": {},
   "source": [
    "### Read files for german titles transformation"
   ]
  },
  {
   "cell_type": "code",
   "execution_count": 7,
   "id": "e816452a",
   "metadata": {},
   "outputs": [],
   "source": [
    "with open('processing/title_processing/kfix_de.txt') as f:\n",
    "    clothes_kfix_list = f.read().splitlines() \n",
    "\n",
    "with open('processing/title_processing/primary_clothes_de.txt') as f:\n",
    "    primary_clothes = f.read().splitlines() \n",
    "clothes_matches = {}\n",
    "with open('processing/title_processing/clothes_matches_de.txt') as f:\n",
    "    for line in f:\n",
    "        (key, val) = line.split(':')\n",
    "        val = val.strip()\n",
    "        clothes_matches[key] = val"
   ]
  },
  {
   "cell_type": "markdown",
   "id": "58d3a472",
   "metadata": {},
   "source": [
    "### Class for applying specific purpose text transformations\n",
    "for title and color features"
   ]
  },
  {
   "cell_type": "code",
   "execution_count": 8,
   "id": "563b4da5",
   "metadata": {},
   "outputs": [],
   "source": [
    "class SpecificTrasformer(TextTransformer):\n",
    "    def __init__(self,\n",
    "                 kfix_list, \n",
    "                 matches, \n",
    "                 primary):\n",
    "        self.kfix_list = kfix_list\n",
    "        self.matches = matches\n",
    "        self.primary = primary\n",
    "    def separe_word(self, text, word):\n",
    "        i = text.find(word)\n",
    "        text = text[:i] + ' ' + text[i:] if i != -1 else text\n",
    "        return text[:i+len(word)+1] + ' ' + text[i+len(word)+1:] if i != -1 else text\n",
    "    def separe_words(self, text):\n",
    "        for color in self.primary:\n",
    "            text = self.separe_word(text, color)\n",
    "        return text\n",
    "    def replace_words(self, text):\n",
    "        for k, v in self.matches.items():\n",
    "            text = text.replace(k, v)\n",
    "        return text\n",
    "    def remove_kfix(self, text):\n",
    "        for suffix in self.kfix_list:\n",
    "            text = text.replace(suffix, '')\n",
    "        return text\n",
    "    \n",
    "    def processed_text(self, text):\n",
    "        splitted = super().processed_text(text).split()\n",
    "        #1 transform matches\n",
    "        splitted = [self.replace_words(text) for text in splitted]\n",
    "        #2 suffix removal\n",
    "        splitted = [self.remove_kfix(text) for text in splitted]\n",
    "        #separate primary colors\n",
    "        splitted = [self.separe_words(term) for term in splitted]\n",
    "        return re.sub(' +', ' ', ' '.join(splitted).strip())"
   ]
  },
  {
   "cell_type": "markdown",
   "id": "79e5299e",
   "metadata": {},
   "source": [
    "### Instance of text transformers"
   ]
  },
  {
   "cell_type": "code",
   "execution_count": 9,
   "id": "0568080f",
   "metadata": {},
   "outputs": [],
   "source": [
    "tt = TextTransformer()\n",
    "ct = SpecificTrasformer(color_kfix_list, color_matches, primary_colors)\n",
    "titlet = SpecificTrasformer(clothes_kfix_list, clothes_matches, primary_clothes)"
   ]
  },
  {
   "cell_type": "markdown",
   "id": "ce8e5169",
   "metadata": {},
   "source": [
    "### Class for brand management"
   ]
  },
  {
   "cell_type": "code",
   "execution_count": 10,
   "id": "57bfa0a1",
   "metadata": {},
   "outputs": [],
   "source": [
    "class Brand:\n",
    "    def __init__(self, name, parent=None, child=list()):\n",
    "        self.name = name\n",
    "        self.parent = parent\n",
    "        self.child = child"
   ]
  },
  {
   "cell_type": "code",
   "execution_count": 11,
   "id": "850b3c9a",
   "metadata": {},
   "outputs": [],
   "source": [
    "class BrandCollection:\n",
    "    def __init__(self, brand_list):\n",
    "        self.brands = {}\n",
    "        self.brand_family = {}\n",
    "        self.manual_matches = {}\n",
    "        #brand_list = [TextTransformer(x).processed_text() for x in brand_list]\n",
    "        brand_list.sort()\n",
    "        for el in brand_list:\n",
    "            self.process_brand(Brand(el))\n",
    "    \n",
    "    def process_brand(self, brand):\n",
    "        if brand.name not in self.brands:\n",
    "            parent_likelyhood = 0\n",
    "            likely_parent = None\n",
    "            for k in self.brands.keys():\n",
    "                comp = self.brands[k]\n",
    "                l_comp = self.listify(comp, brand)\n",
    "                l_brand = self.listify(brand, comp)\n",
    "                calc_likelyhood = self.parent_likelyhood(l_comp, l_brand)\n",
    "                if calc_likelyhood > parent_likelyhood:\n",
    "                    parent_likelyhood = calc_likelyhood\n",
    "                    brand.parent = comp\n",
    "                    likely_parent = self.brands[comp.name]\n",
    "            self.brands[brand.name] = brand\n",
    "            self.brand_family[brand] = []\n",
    "            if likely_parent is not None:\n",
    "                self.brand_family[likely_parent].append(brand)\n",
    "    \n",
    "    def listify(self, brand, to_compare):\n",
    "        l_brand = brand.name.split()\n",
    "        l_comp = to_compare.name.split()\n",
    "        max_len = len(l_brand) if len(l_brand) > len(l_comp) else len(l_comp)\n",
    "        if len(l_brand) == max_len:\n",
    "            return l_brand\n",
    "        for i in range(max_len - len(l_brand)):\n",
    "            l_brand += ['']\n",
    "        return l_brand\n",
    "    \n",
    "    def parent_likelyhood(self, l_comp, l_brand):\n",
    "        likelyhood = 0\n",
    "        #check longest matching n-gram, does not check for combinations\n",
    "        for i in range(len(l_comp)):\n",
    "            if l_comp[i] == l_brand[i]:\n",
    "                likelyhood += 1\n",
    "            else:\n",
    "                return likelyhood\n",
    "        return likelyhood\n",
    "    \n",
    "    def similarity(self, str_1, str_2):\n",
    "        return textdistance.levenshtein.normalized_similarity(str_1, str_2)\n",
    "    \n",
    "    def get_match(self, brand_query):\n",
    "        brand_to_search = Brand(tt.processed_text(brand_query))\n",
    "        if brand_to_search.name in self.brands:\n",
    "            selected_brand = self.brands[brand_to_search.name]\n",
    "            while selected_brand.parent is not None:\n",
    "                selected_brand = selected_brand.parent\n",
    "            brands = self.get_brand_family(selected_brand.name)\n",
    "            return brands, 1\n",
    "        else:\n",
    "            relevance = 0\n",
    "            most_relevant = '-'\n",
    "            for key in self.brands.keys():\n",
    "                sim = self.similarity(brand_to_search.name, self.brands[key].name)\n",
    "                if sim > relevance:\n",
    "                    relevance = sim\n",
    "                    most_relevant = self.brands[key].name\n",
    "            brands = self.get_brand_family(most_relevant)\n",
    "            return brands, relevance\n",
    "            \n",
    "    def get_brand_family(self, brand_name):\n",
    "        fam_list = [brand_name]\n",
    "        family = []\n",
    "        while len(fam_list) != 0:\n",
    "            current = fam_list[0]\n",
    "            fam_list += [b.name for b in self.brand_family[self.brands[current]]]\n",
    "            fam_list.remove(current)\n",
    "            if current not in family:\n",
    "                family += [current]\n",
    "        if brand_name in self.manual_matches.keys():\n",
    "            family += self.manual_matches[brand_name]\n",
    "        return list(set(family))\n",
    "    \n",
    "    def add_manual_match(self, brand_a, brand_b):\n",
    "        if brand_a not in self.manual_matches.keys():\n",
    "            self.manual_matches[brand_a] = [brand_b]\n",
    "        else:\n",
    "            if brand_b not in self.manual_matches[brand_a]:\n",
    "                self.manual_matches[brand_a] += [brand_b]\n",
    "                \n",
    "        if brand_b not in self.manual_matches.keys():\n",
    "            self.manual_matches[brand_b] = [brand_a]\n",
    "        else:\n",
    "            if brand_a not in self.manual_matches[brand_b]:\n",
    "                self.manual_matches[brand_b] += [brand_a]"
   ]
  },
  {
   "cell_type": "markdown",
   "id": "6d4e10be",
   "metadata": {},
   "source": [
    "### Product name matching VSM - BM25"
   ]
  },
  {
   "cell_type": "code",
   "execution_count": 12,
   "id": "4e4476a8",
   "metadata": {},
   "outputs": [],
   "source": [
    "class TextRelevance:\n",
    "    def __init__(self, text, relevance):\n",
    "        self.text = text\n",
    "        self.relevance = relevance\n",
    "    def __repr__(self):\n",
    "        return self.text + ' ' + str(self.relevance)\n",
    "    def __eq__(self, other):\n",
    "        return self.text == other.text\n",
    "    def __hash__(self):\n",
    "        return hash(self.text)"
   ]
  },
  {
   "cell_type": "code",
   "execution_count": 13,
   "id": "fd2fc30f",
   "metadata": {},
   "outputs": [],
   "source": [
    "class BM25Z(BM25L):\n",
    "    def __init__(self, corpus):\n",
    "        super().__init__(self.process_list(corpus))\n",
    "        self.corpus = self.process_list(corpus)\n",
    "    def process_list(self, titles_list):\n",
    "        return [text.split() for text in titles_list if text is not None]\n",
    "    def processed_text(self, text):\n",
    "        return tt.processed_text(text)\n",
    "    def get_corpus_str(self):\n",
    "        return [' '.join(el) for el in self.corpus]\n",
    "    def get_corpus_scores(self, query):\n",
    "        query = self.processed_text(query).split()\n",
    "        return [TextRelevance(x,y) for x, y in zip(self.get_corpus_str(), self.get_scores(query))]\n",
    "    def get_relevant_results(self, query, threshold=0):\n",
    "        res = [el for el in self.get_corpus_scores(query) if el.relevance > threshold]\n",
    "        res = sorted(res, key=lambda x: x.relevance, reverse=True)\n",
    "        return res"
   ]
  },
  {
   "cell_type": "markdown",
   "id": "525cea99",
   "metadata": {},
   "source": [
    "### Clean dataset"
   ]
  },
  {
   "cell_type": "code",
   "execution_count": 14,
   "id": "64a9aa36",
   "metadata": {},
   "outputs": [],
   "source": [
    "offers_df = offers_training_df.copy()\n",
    "\n",
    "offers_df['brand'] = offers_df['brand']\\\n",
    "                    .apply(lambda x: tt.processed_text(x))\n",
    "offers_df['title'] = offers_df['title']\\\n",
    "                    .apply(lambda x: titlet.processed_text(x))\n",
    "offers_df['color'] = offers_df['color']\\\n",
    "                    .apply(lambda x: ct.processed_text(x))\n",
    "\n",
    "zalando_prod_training = offers_df.loc[offers_df['shop'] == 'zalando']\n",
    "\n",
    "\n",
    "aboutyou_prod_training = offers_df.loc[offers_df['shop'] == 'aboutyou']\n",
    "\n",
    "\n",
    "offers_test = offers_testing_df.copy()\n",
    "offers_test['brand'] = offers_test['brand']\\\n",
    "                    .apply(lambda x: tt.processed_text(x))\n",
    "offers_test['title'] = offers_test['title']\\\n",
    "                    .apply(lambda x: titlet.processed_text(x))\n",
    "offers_test['color'] = offers_test['color']\\\n",
    "                    .apply(lambda x: ct.processed_text(x))\n",
    "\n",
    "zalando_prod_testing = offers_test.loc[offers_test['shop'] == 'zalando']\n",
    "\n",
    "\n",
    "aboutyou_prod_testing = offers_test.loc[offers_test['shop'] == 'aboutyou']"
   ]
  },
  {
   "cell_type": "markdown",
   "id": "dd131378",
   "metadata": {},
   "source": [
    "### Instance of matchers"
   ]
  },
  {
   "cell_type": "code",
   "execution_count": 15,
   "id": "80c15ca0",
   "metadata": {},
   "outputs": [],
   "source": [
    "brand_collection = BrandCollection(list(offers_test['brand']) + list(offers_df['brand']))\n",
    "\n",
    "bm25matcher_title = BM25Z(list(aboutyou_prod_testing['title']))\n",
    "\n",
    "bm25matcher_color = BM25Z(list(aboutyou_prod_testing['color']))"
   ]
  },
  {
   "cell_type": "markdown",
   "id": "e28e6922",
   "metadata": {},
   "source": [
    "### Brand likelyhood"
   ]
  },
  {
   "cell_type": "markdown",
   "id": "b1c0b037",
   "metadata": {},
   "source": [
    "Some products are listed under different brand names, identify them using groundtruth"
   ]
  },
  {
   "cell_type": "code",
   "execution_count": 16,
   "id": "1035b892",
   "metadata": {},
   "outputs": [],
   "source": [
    "def brand_manual_matching():\n",
    "    for i in range(len(matches_training_df)):\n",
    "        groundtruth_match = matches_training_df.loc[i]\n",
    "        z_id, a_id = groundtruth_match['zalando'], groundtruth_match['aboutyou']\n",
    "        zalando_brand = zalando_prod_training\\\n",
    "                        .loc[zalando_prod_training['offer_id'] == z_id]['brand'].values[0]\n",
    "        aboutyou_brand = aboutyou_prod_training\\\n",
    "                        .loc[aboutyou_prod_training['offer_id'] == a_id]['brand'].values[0]\n",
    "        \n",
    "        brand_to_match = brand_collection.get_match(zalando_brand)[0]        \n",
    "        if aboutyou_brand not in brand_to_match:\n",
    "            for z_brand in brand_to_match:\n",
    "                brand_collection.add_manual_match(z_brand, aboutyou_brand)"
   ]
  },
  {
   "cell_type": "markdown",
   "id": "1247af62",
   "metadata": {},
   "source": [
    "### Training brands using groundtruth matches"
   ]
  },
  {
   "cell_type": "code",
   "execution_count": 17,
   "id": "b4215155",
   "metadata": {},
   "outputs": [],
   "source": [
    "#brand_manual_matching() #if UNABLED enable it again for testing"
   ]
  },
  {
   "cell_type": "markdown",
   "id": "592367cf",
   "metadata": {},
   "source": [
    "### Indentify only records belonging to the same brand family"
   ]
  },
  {
   "cell_type": "code",
   "execution_count": 18,
   "id": "bce18c1d",
   "metadata": {},
   "outputs": [],
   "source": [
    "def brand_likely_matches(brand, brand_collection, target_df):\n",
    "    \"\"\"\n",
    "    Search a brand (str) within a target dataframe\n",
    "    Returns a subset of target_df containing only brands\n",
    "    belonging to the same brand family (in brand_collection)\n",
    "    \"\"\"\n",
    "    \n",
    "    match_brands, rel = brand_collection.get_match(brand)\n",
    "    target_match = target_df\\\n",
    "                    .loc[target_df['brand']\\\n",
    "                    .isin(match_brands)]\n",
    "    \n",
    "    return target_match"
   ]
  },
  {
   "cell_type": "code",
   "execution_count": 19,
   "id": "0b33b709",
   "metadata": {},
   "outputs": [],
   "source": [
    "#brand_likely_matches('selected', brand_collection, aboutyou_prod_training)"
   ]
  },
  {
   "cell_type": "markdown",
   "id": "02fb4868",
   "metadata": {},
   "source": [
    "### Identify only relevant records in terms of title"
   ]
  },
  {
   "cell_type": "code",
   "execution_count": 20,
   "id": "6f720bf1",
   "metadata": {},
   "outputs": [],
   "source": [
    "def title_likely_matches(title, title_matcher, target_df):\n",
    "    \n",
    "    title_result = pd.DataFrame(((el.text, el.relevance) \n",
    "                   for el in \n",
    "                   title_matcher.get_relevant_results(title)), columns=['title', 'title_score'])\\\n",
    "                   .drop_duplicates()\\\n",
    "                   .merge(target_df, how='inner', left_on='title', right_on='title')\n",
    "    \n",
    "    return title_result#target_match"
   ]
  },
  {
   "cell_type": "markdown",
   "id": "34f60e86",
   "metadata": {},
   "source": [
    "### Identify only relevant records in terms of color"
   ]
  },
  {
   "cell_type": "code",
   "execution_count": 21,
   "id": "83afff0e",
   "metadata": {},
   "outputs": [],
   "source": [
    "def color_likely_matches(color, color_matcher, target_df):\n",
    "    \n",
    "    color_result = pd.DataFrame(((el.text, el.relevance) \n",
    "                   for el in \n",
    "                   color_matcher.get_relevant_results(color)), columns=['color', 'color_score'])\\\n",
    "                   .drop_duplicates()\\\n",
    "                   .merge(target_df, how='inner', on='color')\n",
    "    \n",
    "    return color_result"
   ]
  },
  {
   "cell_type": "code",
   "execution_count": 22,
   "id": "d070a831",
   "metadata": {},
   "outputs": [],
   "source": [
    "#color_likely_matches('wei', bm25matcher_color, aboutyou_prod_training).sort_values(by='color_score')"
   ]
  },
  {
   "cell_type": "markdown",
   "id": "32cb755b",
   "metadata": {},
   "source": [
    "### Identify only relevant records in terms of description\n",
    "#### Warn: Not refined, not used for matches"
   ]
  },
  {
   "cell_type": "code",
   "execution_count": 23,
   "id": "416ab743",
   "metadata": {},
   "outputs": [],
   "source": [
    "def descr_likely_matches(n):\n",
    "    try:\n",
    "        prod_to_match = zalando_prod_training.loc[n]\n",
    "        id_prod = prod_to_match['offer_id']\n",
    "    except:\n",
    "        return {'zalando_id' : None, 'aboutyou_ids' : []}\n",
    "    \n",
    "    match_titles_relevance = list(dict.fromkeys(bm25matcher_descr.get_relevant_results(prod_to_match['description'])))\n",
    "    match_titles = [x.text for x in match_titles_relevance]\n",
    "\n",
    "    aboutyou_prod_descr_match = aboutyou_prod_training\\\n",
    "                                .loc[aboutyou_prod_training['description']\\\n",
    "                                .isin(match_titles)]\n",
    "    \n",
    "    if len(aboutyou_prod_descr_match['color']) == 0:\n",
    "        return {'zalando_id' : id_prod, 'aboutyou_ids' : []}\n",
    "    \n",
    "    return {'zalando_id' : id_prod, 'aboutyou_ids' : list(aboutyou_prod_descr_match['offer_id'])}"
   ]
  },
  {
   "cell_type": "markdown",
   "id": "e5182a99",
   "metadata": {},
   "source": [
    "### Price analysis\n",
    "Using groundtruth to understand price differences"
   ]
  },
  {
   "cell_type": "code",
   "execution_count": 24,
   "id": "b93d2f76",
   "metadata": {},
   "outputs": [],
   "source": [
    "class PriceModel:\n",
    "    def __init__(self, matches_target_df, offers_target_df, precision=500):\n",
    "        self.price_model = self.learn_price_difference(matches_target_df, offers_target_df, precision)\n",
    "    \n",
    "    def learn_price_difference(self, matches_target_df, offers_target_df, limit):\n",
    "        price_diff = []\n",
    "        for i in range(len(matches_target_df)):\n",
    "            z_id = matches_target_df.loc[i]['zalando']\n",
    "            a_id = matches_target_df.loc[i]['aboutyou']\n",
    "            z_price = offers_target_df.loc[offers_target_df['offer_id'] == z_id]['price'].values[0]\n",
    "            a_price = offers_target_df.loc[offers_target_df['offer_id'] == a_id]['price'].values[0]\n",
    "            price_diff += [np.abs((z_price - a_price)/z_price)] if not np.isnan(z_price - a_price) else []\n",
    "            if i > limit-1:\n",
    "                break\n",
    "        price_diff.sort()\n",
    "        return price_diff\n",
    "    \n",
    "    def price_likely_score(self, abs_diff):\n",
    "        i = 0\n",
    "        while self.price_model[i] < abs_diff:\n",
    "            if i == len(self.price_model) - 1:\n",
    "                return 0\n",
    "            i += 1\n",
    "        return 1 - i/len(self.price_model)"
   ]
  },
  {
   "cell_type": "code",
   "execution_count": 25,
   "id": "c0760cc4",
   "metadata": {},
   "outputs": [],
   "source": [
    "compute_price_model = False\n",
    "if compute_price_model:\n",
    "    price_model = PriceModel(matches_training_df, offers_training_df, len(matches_training_df))\n",
    "    with open('struct/price.model', 'wb') as price_model_file: \n",
    "        pickle.dump(price_model, price_model_file)\n",
    "else:\n",
    "    with open('struct/price.model', 'rb') as price_model_file:\n",
    "        price_model = pickle.load(price_model_file)"
   ]
  },
  {
   "cell_type": "code",
   "execution_count": 26,
   "id": "03bea9b5",
   "metadata": {},
   "outputs": [
    {
     "data": {
      "text/plain": [
       "0.0008570675105484815"
      ]
     },
     "execution_count": 26,
     "metadata": {},
     "output_type": "execute_result"
    }
   ],
   "source": [
    "price_model.price_likely_score(.97)"
   ]
  },
  {
   "cell_type": "markdown",
   "id": "0c060992",
   "metadata": {},
   "source": [
    "### Train the model for price difference"
   ]
  },
  {
   "cell_type": "code",
   "execution_count": 27,
   "id": "ae5f0e53",
   "metadata": {},
   "outputs": [
    {
     "data": {
      "image/png": "[encoded data removed]",
      "text/plain": [
       "<Figure size 432x288 with 1 Axes>"
      ]
     },
     "metadata": {
      "needs_background": "light"
     },
     "output_type": "display_data"
    }
   ],
   "source": [
    "a = np.hstack(price_model.price_model)\n",
    "plt.hist(a, bins=30)\n",
    "plt.yscale('log')\n",
    "plt.xlabel('Price Difference [Normalized]', fontsize=11)\n",
    "plt.ylabel('Occurrencies [Log Scale]', fontsize=11)\n",
    "plt.show()"
   ]
  },
  {
   "cell_type": "code",
   "execution_count": 28,
   "id": "9607280e",
   "metadata": {},
   "outputs": [],
   "source": [
    "def price_likely_matches(price, price_model, target_df):\n",
    "    \n",
    "    def calc_score(x):\n",
    "        try:\n",
    "            return price_model.price_likely_score(np.abs((price - x) / price))\n",
    "        except:\n",
    "            return 0\n",
    "    \n",
    "    target_match = target_df.copy()\n",
    "    target_match['price_score'] = np.array(0)\n",
    "    target_match['price_score'] = target_match['price']\\\n",
    "        .apply(lambda x: calc_score(x))\n",
    "    return target_match"
   ]
  },
  {
   "cell_type": "markdown",
   "id": "d6711638",
   "metadata": {},
   "source": [
    "### Statistical goodness of fit test \n",
    "Is normalized price difference following an exponential distribution?"
   ]
  },
  {
   "cell_type": "code",
   "execution_count": 29,
   "id": "14b8342c",
   "metadata": {},
   "outputs": [
    {
     "name": "stdout",
     "output_type": "stream",
     "text": [
      "Price difference does not follow the exponential distribution, p-value: 0.0\n"
     ]
    }
   ],
   "source": [
    "import scipy.stats as stats\n",
    "#H0: price_model follows exponential distribution\n",
    "#H1: price_model does not follow exponential distribution\n",
    "hyp_test = stats.kstest(price_model.price_model, 'expon')\n",
    "res = 'Price difference does ' + ('' if hyp_test[1] > 0.05 else 'not ') +\\\n",
    "        f'follow the exponential distribution, p-value: {hyp_test[1]}'\n",
    "print(res)"
   ]
  },
  {
   "cell_type": "code",
   "execution_count": 30,
   "id": "24b2e7ce",
   "metadata": {},
   "outputs": [],
   "source": [
    "def calculate_match_score(zalando_offer_id, offer_df, target_df):\n",
    "        \n",
    "    zalando_offer = offer_df.loc[offer_df['offer_id'] == zalando_offer_id]\n",
    "\n",
    "    z_b = zalando_offer['brand'].values[0]\n",
    "    z_t = zalando_offer['title'].values[0]\n",
    "    z_c = zalando_offer['color'].values[0]\n",
    "    z_p = zalando_offer['price'].values[0]\n",
    "        \n",
    "    #filter target_df based on brand\n",
    "    target_df = brand_likely_matches(z_b, brand_collection, target_df)\n",
    "    #filter target_df based on title\n",
    "    if len(target_df) > 0:\n",
    "        target_df = title_likely_matches(z_t, bm25matcher_title, target_df)\n",
    "    else:\n",
    "        target_df['title_score'] = np.array(0)\n",
    "        \n",
    "    if len(target_df) > 0:\n",
    "        target_df = color_likely_matches(z_c, bm25matcher_color, target_df)\n",
    "    else:\n",
    "        target_df['color_score'] = np.array(0)\n",
    "    \n",
    "    if len(target_df) > 0:\n",
    "        target_df = price_likely_matches(z_p, price_model, target_df)\n",
    "    else:\n",
    "        target_df['price_score'] = np.array(0)\n",
    "        \n",
    "    return target_df[['offer_id', 'title_score', 'color_score', 'price_score']]"
   ]
  },
  {
   "cell_type": "code",
   "execution_count": 31,
   "id": "fc21f14c",
   "metadata": {},
   "outputs": [],
   "source": [
    "#calculate_match_score('dbf70606-78ba-4f93-93af-4b6ecdf15006', zalando_prod_training, aboutyou_prod_training)"
   ]
  },
  {
   "cell_type": "markdown",
   "id": "6ed7b8b3",
   "metadata": {},
   "source": [
    "## Train ANN to tune the feature weights\n",
    "### Create labelled data"
   ]
  },
  {
   "cell_type": "code",
   "execution_count": 32,
   "id": "390825f5",
   "metadata": {},
   "outputs": [],
   "source": [
    "def create_labelled_data(sample_prop = 0.001, attr_to_compare='zalando', attr_to_find='aboutyou'):\n",
    "    #Prepare labeled data for fitting\n",
    "    fitting_examples = matches_training_df.sample(frac=sample_prop, random_state=19)\n",
    "    zalando_fitting = zalando_prod_training.loc[\n",
    "        zalando_prod_training['offer_id'].isin(fitting_examples[attr_to_compare])\n",
    "    ]\n",
    "    #aboutyou_fitting = aboutyou_prod_training.loc[\n",
    "    #    aboutyou_prod_training['offer_id'].isin(fitting_examples['aboutyou'])\n",
    "    #]\n",
    "    match_score_df = pd.DataFrame(columns=['offer_to_compare', 'offer_found', 'title_score', 'color_score', 'price_score', 'is_match'])\n",
    "    for z_id in fitting_examples[attr_to_compare]:\n",
    "        matches = calculate_match_score(z_id, zalando_prod_training, aboutyou_prod_training)\n",
    "        for index, a_matches in matches.iterrows():\n",
    "            is_match = len(fitting_examples.loc[\n",
    "                (fitting_examples[attr_to_compare] == z_id)\n",
    "                &\n",
    "                (fitting_examples[attr_to_find] == a_matches['offer_id'])\n",
    "            ])\n",
    "            row = {'offer_to_compare': z_id, \n",
    "                   'offer_found': a_matches['offer_id'], \n",
    "                   'title_score': a_matches['title_score'],\n",
    "                   'color_score': a_matches['color_score'],\n",
    "                   'price_score': a_matches['price_score'],\n",
    "                   'is_match': is_match\n",
    "                  }\n",
    "            match_score_df = match_score_df.append(row, ignore_index=True)\n",
    "        \n",
    "    return match_score_df"
   ]
  },
  {
   "cell_type": "markdown",
   "id": "ade634a4",
   "metadata": {},
   "source": [
    "### Extract relevant examples for training"
   ]
  },
  {
   "cell_type": "code",
   "execution_count": 33,
   "id": "23946058",
   "metadata": {},
   "outputs": [],
   "source": [
    "def extract_training_examples(labelled_df, n_negative = 2):\n",
    "    extract_df = pd.DataFrame()\n",
    "    all_positive = labelled_df[labelled_df['is_match'] == 1]\n",
    "    for index, el in all_positive.iterrows():\n",
    "        not_matches = labelled_df[\n",
    "            (labelled_df['is_match'] == 0) & (labelled_df['offer_to_compare'] == el['offer_to_compare'])\n",
    "        ]\n",
    "        not_matches = not_matches.sample(min(n_negative, len(not_matches)), replace=False)\n",
    "        extract_df = extract_df.append(not_matches)\n",
    "        extract_df = extract_df.append(el)\n",
    "    return extract_df"
   ]
  },
  {
   "cell_type": "markdown",
   "id": "7d277fe5",
   "metadata": {},
   "source": [
    "### Save Labelled examples\n",
    "Creates and saves a labelled training dataset for fitting the ANN"
   ]
  },
  {
   "cell_type": "code",
   "execution_count": 34,
   "id": "ba6fdd42",
   "metadata": {},
   "outputs": [],
   "source": [
    "#Uncomment to create ANN training set using ground truth matches\n",
    "#extract_training_examples(create_labelled_data(sample_prop=0.01), n_negative=1)\\\n",
    "#                    .to_parquet('data/label_data_training.parquet')"
   ]
  },
  {
   "cell_type": "markdown",
   "id": "bc44519d",
   "metadata": {},
   "source": [
    "### Load labelled data"
   ]
  },
  {
   "cell_type": "code",
   "execution_count": 35,
   "id": "b59e90e8",
   "metadata": {},
   "outputs": [
    {
     "data": {
      "text/html": [
       "<div>\n",
       "<style scoped>\n",
       "    .dataframe tbody tr th:only-of-type {\n",
       "        vertical-align: middle;\n",
       "    }\n",
       "\n",
       "    .dataframe tbody tr th {\n",
       "        vertical-align: top;\n",
       "    }\n",
       "\n",
       "    .dataframe thead th {\n",
       "        text-align: right;\n",
       "    }\n",
       "</style>\n",
       "<table border=\"1\" class=\"dataframe\">\n",
       "  <thead>\n",
       "    <tr style=\"text-align: right;\">\n",
       "      <th></th>\n",
       "      <th>offer_to_compare</th>\n",
       "      <th>offer_found</th>\n",
       "      <th>title_score</th>\n",
       "      <th>color_score</th>\n",
       "      <th>price_score</th>\n",
       "      <th>is_match</th>\n",
       "    </tr>\n",
       "  </thead>\n",
       "  <tbody>\n",
       "    <tr>\n",
       "      <th>10</th>\n",
       "      <td>15230b72-2c20-4d7e-9f17-809c3c85eb0b</td>\n",
       "      <td>6cdadc63-056d-4aa9-8350-7095ee8a73b9</td>\n",
       "      <td>4.088910</td>\n",
       "      <td>5.530110</td>\n",
       "      <td>0.043315</td>\n",
       "      <td>0</td>\n",
       "    </tr>\n",
       "    <tr>\n",
       "      <th>0</th>\n",
       "      <td>15230b72-2c20-4d7e-9f17-809c3c85eb0b</td>\n",
       "      <td>ba00d767-ab41-4c64-9619-d99c623af1f7</td>\n",
       "      <td>17.754350</td>\n",
       "      <td>7.613899</td>\n",
       "      <td>0.317445</td>\n",
       "      <td>1</td>\n",
       "    </tr>\n",
       "    <tr>\n",
       "      <th>1247</th>\n",
       "      <td>3d96553f-2e24-48a6-b45f-d77afdbeda7b</td>\n",
       "      <td>6d175a97-4f93-40bb-b922-60b9673030ca</td>\n",
       "      <td>2.672670</td>\n",
       "      <td>1.087815</td>\n",
       "      <td>0.039689</td>\n",
       "      <td>0</td>\n",
       "    </tr>\n",
       "    <tr>\n",
       "      <th>143</th>\n",
       "      <td>3d96553f-2e24-48a6-b45f-d77afdbeda7b</td>\n",
       "      <td>e00fe5b6-a47c-44c4-868d-83896446f478</td>\n",
       "      <td>3.122388</td>\n",
       "      <td>3.705251</td>\n",
       "      <td>0.856145</td>\n",
       "      <td>1</td>\n",
       "    </tr>\n",
       "    <tr>\n",
       "      <th>1542</th>\n",
       "      <td>e0c40cb9-12cb-4948-bd30-2836d2995618</td>\n",
       "      <td>97b303da-f569-44e0-a325-651c737ae88b</td>\n",
       "      <td>2.522158</td>\n",
       "      <td>3.405175</td>\n",
       "      <td>0.000659</td>\n",
       "      <td>0</td>\n",
       "    </tr>\n",
       "    <tr>\n",
       "      <th>...</th>\n",
       "      <td>...</td>\n",
       "      <td>...</td>\n",
       "      <td>...</td>\n",
       "      <td>...</td>\n",
       "      <td>...</td>\n",
       "      <td>...</td>\n",
       "    </tr>\n",
       "    <tr>\n",
       "      <th>47890</th>\n",
       "      <td>113628df-0416-431d-916d-701601ac0b9e</td>\n",
       "      <td>9bca1ffd-4fa5-4f08-9976-298756f670ee</td>\n",
       "      <td>6.250012</td>\n",
       "      <td>8.070812</td>\n",
       "      <td>0.458004</td>\n",
       "      <td>1</td>\n",
       "    </tr>\n",
       "    <tr>\n",
       "      <th>48195</th>\n",
       "      <td>0381c947-9967-4a20-a361-416f3abb0e30</td>\n",
       "      <td>d3a672d8-2a6f-4e2b-8afa-b72fd04ea29f</td>\n",
       "      <td>1.555009</td>\n",
       "      <td>3.705251</td>\n",
       "      <td>0.005076</td>\n",
       "      <td>0</td>\n",
       "    </tr>\n",
       "    <tr>\n",
       "      <th>47917</th>\n",
       "      <td>0381c947-9967-4a20-a361-416f3abb0e30</td>\n",
       "      <td>dff14e9b-d328-4e40-8d5b-613a4e3c7d4f</td>\n",
       "      <td>12.867900</td>\n",
       "      <td>3.705251</td>\n",
       "      <td>0.470332</td>\n",
       "      <td>1</td>\n",
       "    </tr>\n",
       "    <tr>\n",
       "      <th>48626</th>\n",
       "      <td>b4c7a7ca-4c36-4dbc-9c1a-14c655e6bf82</td>\n",
       "      <td>d45f07f4-1dd8-43dd-9530-11c17567ac91</td>\n",
       "      <td>1.728434</td>\n",
       "      <td>5.530110</td>\n",
       "      <td>0.000000</td>\n",
       "      <td>0</td>\n",
       "    </tr>\n",
       "    <tr>\n",
       "      <th>48646</th>\n",
       "      <td>b4c7a7ca-4c36-4dbc-9c1a-14c655e6bf82</td>\n",
       "      <td>001518c8-333d-4bad-a3d9-b2885f459493</td>\n",
       "      <td>9.594552</td>\n",
       "      <td>5.082244</td>\n",
       "      <td>0.744132</td>\n",
       "      <td>1</td>\n",
       "    </tr>\n",
       "  </tbody>\n",
       "</table>\n",
       "<p>269 rows × 6 columns</p>\n",
       "</div>"
      ],
      "text/plain": [
       "                           offer_to_compare  \\\n",
       "10     15230b72-2c20-4d7e-9f17-809c3c85eb0b   \n",
       "0      15230b72-2c20-4d7e-9f17-809c3c85eb0b   \n",
       "1247   3d96553f-2e24-48a6-b45f-d77afdbeda7b   \n",
       "143    3d96553f-2e24-48a6-b45f-d77afdbeda7b   \n",
       "1542   e0c40cb9-12cb-4948-bd30-2836d2995618   \n",
       "...                                     ...   \n",
       "47890  113628df-0416-431d-916d-701601ac0b9e   \n",
       "48195  0381c947-9967-4a20-a361-416f3abb0e30   \n",
       "47917  0381c947-9967-4a20-a361-416f3abb0e30   \n",
       "48626  b4c7a7ca-4c36-4dbc-9c1a-14c655e6bf82   \n",
       "48646  b4c7a7ca-4c36-4dbc-9c1a-14c655e6bf82   \n",
       "\n",
       "                                offer_found  title_score  color_score  \\\n",
       "10     6cdadc63-056d-4aa9-8350-7095ee8a73b9     4.088910     5.530110   \n",
       "0      ba00d767-ab41-4c64-9619-d99c623af1f7    17.754350     7.613899   \n",
       "1247   6d175a97-4f93-40bb-b922-60b9673030ca     2.672670     1.087815   \n",
       "143    e00fe5b6-a47c-44c4-868d-83896446f478     3.122388     3.705251   \n",
       "1542   97b303da-f569-44e0-a325-651c737ae88b     2.522158     3.405175   \n",
       "...                                     ...          ...          ...   \n",
       "47890  9bca1ffd-4fa5-4f08-9976-298756f670ee     6.250012     8.070812   \n",
       "48195  d3a672d8-2a6f-4e2b-8afa-b72fd04ea29f     1.555009     3.705251   \n",
       "47917  dff14e9b-d328-4e40-8d5b-613a4e3c7d4f    12.867900     3.705251   \n",
       "48626  d45f07f4-1dd8-43dd-9530-11c17567ac91     1.728434     5.530110   \n",
       "48646  001518c8-333d-4bad-a3d9-b2885f459493     9.594552     5.082244   \n",
       "\n",
       "       price_score  is_match  \n",
       "10        0.043315         0  \n",
       "0         0.317445         1  \n",
       "1247      0.039689         0  \n",
       "143       0.856145         1  \n",
       "1542      0.000659         0  \n",
       "...            ...       ...  \n",
       "47890     0.458004         1  \n",
       "48195     0.005076         0  \n",
       "47917     0.470332         1  \n",
       "48626     0.000000         0  \n",
       "48646     0.744132         1  \n",
       "\n",
       "[269 rows x 6 columns]"
      ]
     },
     "execution_count": 35,
     "metadata": {},
     "output_type": "execute_result"
    }
   ],
   "source": [
    "score_training_data = pd.read_parquet('data/label_data_training.parquet')\n",
    "score_training_data"
   ]
  },
  {
   "cell_type": "markdown",
   "id": "1d54d1dc",
   "metadata": {},
   "source": [
    "### Test Training Model"
   ]
  },
  {
   "cell_type": "code",
   "execution_count": 36,
   "id": "223a20a5",
   "metadata": {},
   "outputs": [],
   "source": [
    "from sklearn.neural_network import MLPClassifier\n",
    "from sklearn.model_selection import train_test_split\n",
    "X_train,X_test,y_train,y_test = train_test_split(\n",
    "    score_training_data[['title_score', 'color_score', 'price_score']],\n",
    "    score_training_data['is_match'],\n",
    "    test_size=0.2\n",
    ")\n",
    "#X = score_training_data[['title_score', 'color_score', 'price_score']]\n",
    "#y = score_training_data['is_match']\n",
    "clf = MLPClassifier(solver='lbfgs', alpha=0.001,\n",
    "                    hidden_layer_sizes=(5, 2), random_state=19)\n",
    "\n",
    "clf.fit(X_train, y_train)\n",
    "m_predicted = list(clf.predict(X_test))\n",
    "m_actual = list(y_test)"
   ]
  },
  {
   "cell_type": "markdown",
   "id": "4848f5b9",
   "metadata": {},
   "source": [
    "### Evaluating the method"
   ]
  },
  {
   "cell_type": "code",
   "execution_count": 37,
   "id": "b218c13a",
   "metadata": {},
   "outputs": [
    {
     "name": "stdout",
     "output_type": "stream",
     "text": [
      "f1 score for predicted samples = 0.8936170212765958\n"
     ]
    }
   ],
   "source": [
    "from sklearn.metrics import f1_score\n",
    "print(f'f1 score for predicted samples = {f1_score(m_actual, m_predicted)}')"
   ]
  },
  {
   "cell_type": "markdown",
   "id": "a13cae4a",
   "metadata": {},
   "source": [
    "### Fit ANN Model"
   ]
  },
  {
   "cell_type": "code",
   "execution_count": 38,
   "id": "5ced29d9",
   "metadata": {},
   "outputs": [
    {
     "data": {
      "text/plain": [
       "MLPRegressor(alpha=0.001, hidden_layer_sizes=(5, 2), random_state=19,\n",
       "             solver='lbfgs')"
      ]
     },
     "execution_count": 38,
     "metadata": {},
     "output_type": "execute_result"
    }
   ],
   "source": [
    "from sklearn.neural_network import MLPRegressor\n",
    "X = score_training_data[['title_score', 'color_score', 'price_score']]\n",
    "y = score_training_data['is_match']\n",
    "clf = MLPRegressor(solver='lbfgs', alpha=0.001,\n",
    "                    hidden_layer_sizes=(5, 2), random_state=19)\n",
    "\n",
    "clf.fit(X, y)"
   ]
  },
  {
   "cell_type": "code",
   "execution_count": 39,
   "id": "63707be4",
   "metadata": {},
   "outputs": [],
   "source": [
    "class SimplePredictor:\n",
    "    def predict(self, scores_df):\n",
    "        return [el.sum() for idx, el in scores_df.iterrows()]\n",
    "sp = SimplePredictor()"
   ]
  },
  {
   "cell_type": "markdown",
   "id": "8155be50",
   "metadata": {},
   "source": [
    "### Predict score on unseen data"
   ]
  },
  {
   "cell_type": "code",
   "execution_count": 40,
   "id": "7d2dafac",
   "metadata": {},
   "outputs": [],
   "source": [
    "def predict_match(offer_id, offer_df, target_df, predictor):\n",
    "    scores = calculate_match_score(offer_id, offer_df, target_df)\n",
    "    if len(scores) > 0:\n",
    "        tot_score = predictor.predict(scores[['title_score', 'color_score', 'price_score']])\n",
    "        scores['tot_score'] = tot_score\n",
    "        scores['offer_compared'] = np.array(offer_id)\n",
    "        scores = scores.sort_values(by='tot_score', ascending=False)[['offer_compared', 'offer_id']].head(1)\n",
    "        return scores"
   ]
  },
  {
   "cell_type": "code",
   "execution_count": 41,
   "id": "75a5cce6",
   "metadata": {},
   "outputs": [],
   "source": [
    "def get_all_predictions(offers_to_compare, offers_to_search, predictor):\n",
    "    predictions = [\n",
    "        predict_match(id, offers_to_compare, offers_to_search, predictor) \n",
    "        for id in offers_to_compare['offer_id'].values\n",
    "    ]\n",
    "    prediction_df = pd.concat(predictions)\n",
    "    prediction_df.columns = ['zalando', 'aboutyou']\n",
    "    return prediction_df"
   ]
  },
  {
   "cell_type": "code",
   "execution_count": 42,
   "id": "1bd4f067",
   "metadata": {},
   "outputs": [
    {
     "name": "stdout",
     "output_type": "stream",
     "text": [
      "Computation time: 0.0 sec\n"
     ]
    }
   ],
   "source": [
    "calc_pred = False\n",
    "start = time.time()\n",
    "if calc_pred:\n",
    "    all_predictions = get_all_predictions(zalando_prod_testing.sample(20000), aboutyou_prod_testing, sp)\n",
    "#get_matches(list(matches_training_df['zalando'].values)[0])\n",
    "end = time.time()\n",
    "print('Computation time:', round(end-start, 4), 'sec')"
   ]
  },
  {
   "cell_type": "markdown",
   "id": "f249edbe",
   "metadata": {},
   "source": [
    "### Save predictions or load past predictions"
   ]
  },
  {
   "cell_type": "code",
   "execution_count": 43,
   "id": "eacba867",
   "metadata": {},
   "outputs": [],
   "source": [
    "if calc_pred:\n",
    "    all_predictions.to_parquet('data/predictions_test_EXPn.parquet') #name the file \n",
    "else:\n",
    "    all_predictions = pd.read_parquet('data/metrics/predictions_training_v1.parquet')"
   ]
  },
  {
   "cell_type": "markdown",
   "id": "044c6424",
   "metadata": {},
   "source": [
    "### Evaluate predictions (only on training matches)"
   ]
  },
  {
   "cell_type": "code",
   "execution_count": 44,
   "id": "6fde921c",
   "metadata": {},
   "outputs": [
    {
     "data": {
      "text/plain": [
       "{'TP': 4699,\n",
       " 'FN': 10471,\n",
       " 'FP': 6041,\n",
       " 'TN': 40769,\n",
       " 'positives': 15170,\n",
       " 'negatives': 46810,\n",
       " 'precision': 0.43752327746741154,\n",
       " 'recall': 0.3097560975609756,\n",
       " 'F1': 0.3627170976456966}"
      ]
     },
     "execution_count": 44,
     "metadata": {},
     "output_type": "execute_result"
    }
   ],
   "source": [
    "get_metrics(\n",
    "            matches_training_df.loc[:len(all_predictions)+1], \n",
    "            all_predictions, \n",
    "            aboutyou_prod_training \n",
    "           )"
   ]
  },
  {
   "cell_type": "markdown",
   "id": "e631a6c5",
   "metadata": {},
   "source": [
    "### Explore predictions"
   ]
  },
  {
   "cell_type": "code",
   "execution_count": 45,
   "id": "23879a42",
   "metadata": {},
   "outputs": [],
   "source": [
    "#explore_match(all_predictions.iloc[0], matches_training_df)\n",
    "#all_predictions.iloc[0]['zalando']"
   ]
  },
  {
   "cell_type": "markdown",
   "id": "e9370d39",
   "metadata": {},
   "source": [
    "### Color Prediction (not possible to complete)"
   ]
  },
  {
   "cell_type": "code",
   "execution_count": 46,
   "id": "43c42872",
   "metadata": {},
   "outputs": [],
   "source": [
    "#p1 = get_palette_imgs(zalando_prod_training['image_urls'].values[0])\n",
    "#p2 = get_palette_imgs(zalando_prod_training['image_urls'].values[1])"
   ]
  },
  {
   "cell_type": "code",
   "execution_count": 47,
   "id": "1600a93b",
   "metadata": {},
   "outputs": [],
   "source": [
    "#palette_similarity(p1, p2)"
   ]
  }
 ],
 "metadata": {
  "kernelspec": {
   "display_name": "Python 3 (ipykernel)",
   "language": "python",
   "name": "python3"
  },
  "language_info": {
   "codemirror_mode": {
    "name": "ipython",
    "version": 3
   },
   "file_extension": ".py",
   "mimetype": "text/x-python",
   "name": "python",
   "nbconvert_exporter": "python",
   "pygments_lexer": "ipython3",
   "version": "3.7.3"
  }
 },
 "nbformat": 4,
 "nbformat_minor": 5
}
