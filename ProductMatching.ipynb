{
 "cells": [
  {
   "cell_type": "code",
   "execution_count": 1,
   "id": "f365cc7c",
   "metadata": {},
   "outputs": [],
   "source": [
    "# libraries\n",
    "import os\n",
    "from datetime import datetime\n",
    "import pandas as pd\n",
    "import numpy as np\n",
    "import matplotlib.pyplot as plt\n",
    "import matplotlib.image as mpimg\n",
    "from PIL import Image\n",
    "import urllib\n",
    "from random import choices\n",
    "from itertools import chain\n",
    "# Levenshtein Distance in Python\n",
    "import textdistance\n",
    "import re\n",
    "import unicodedata\n",
    "from rank_bm25 import BM25Okapi, BM25L\n",
    "# https://github.com/seatgeek/thefuzz\n",
    "from thefuzz import fuzz, process\n",
    "\n",
    "# Matplotlib configuration\n",
    "font = { 'family': 'DejaVu Sans', 'weight': 'bold', 'size': 16 }\n",
    "plt.rc('font', **font)\n",
    "\n",
    "# Pandas config\n",
    "pd.options.mode.chained_assignment = None  # default='warn'"
   ]
  },
  {
   "cell_type": "markdown",
   "id": "5249b282",
   "metadata": {},
   "source": [
    "### Load grouftruth dataset"
   ]
  },
  {
   "cell_type": "code",
   "execution_count": 2,
   "id": "df870080",
   "metadata": {},
   "outputs": [],
   "source": [
    "matches_training_df = pd.read_parquet('matches_training.parquet')"
   ]
  },
  {
   "cell_type": "code",
   "execution_count": 3,
   "id": "1063e56e",
   "metadata": {},
   "outputs": [],
   "source": [
    "# set random seed\n",
    "np.random.seed(seed=42)"
   ]
  },
  {
   "cell_type": "markdown",
   "id": "6c0197ec",
   "metadata": {},
   "source": [
    "### Offers training"
   ]
  },
  {
   "cell_type": "code",
   "execution_count": 4,
   "id": "876c36cb",
   "metadata": {},
   "outputs": [],
   "source": [
    "offers_training_df = pd.read_parquet('offers_training.parquet')\n",
    "offers_test_df = pd.read_parquet('offers_test.parquet')"
   ]
  },
  {
   "cell_type": "markdown",
   "id": "a0bb8917",
   "metadata": {},
   "source": [
    "## Brand analysis"
   ]
  },
  {
   "cell_type": "markdown",
   "id": "74ecbc25",
   "metadata": {},
   "source": [
    "### Brand text processing\n",
    "- Lower case text\n",
    "- Accented vowels removal `è, é, ... -> e`\n",
    "- Stop words removal (German)"
   ]
  },
  {
   "cell_type": "code",
   "execution_count": 5,
   "id": "3b29dde8",
   "metadata": {},
   "outputs": [],
   "source": [
    "stop_word_list = []\n",
    "\n",
    "with open('german_stopwords.txt', \"r\") as f:\n",
    "    stop_word_list = f.read().split()"
   ]
  },
  {
   "cell_type": "code",
   "execution_count": 6,
   "id": "030b1c91",
   "metadata": {},
   "outputs": [],
   "source": [
    "class TextTransformer:\n",
    "    def __init__(self, text):\n",
    "        self.text = text\n",
    "    def processed_text(self):\n",
    "        if self.text is None:\n",
    "            return ''\n",
    "        #lower\n",
    "        processed = self.text.lower()\n",
    "        #remove accents\n",
    "        processed = self.simplify(processed)\n",
    "        #remove special characters\n",
    "        processed = ''.join(c if c.isalnum() or c == ' ' else ' ' for c in processed)\n",
    "        #remove unnecessary double spaces\n",
    "        processed = re.sub(' +', ' ', processed)\n",
    "        #strip\n",
    "        processed = processed.strip()\n",
    "        #remove stopwords\n",
    "        processed_list = [word for word in processed.split() if word not in stop_word_list]\n",
    "        return ' '.join(processed_list)\n",
    "    \n",
    "    def simplify(self, text):\n",
    "        try:\n",
    "            text = unicode(text, 'utf-8')\n",
    "        except NameError:\n",
    "            pass\n",
    "        text = unicodedata.normalize('NFD', text).encode('ascii', 'ignore').decode(\"utf-8\")\n",
    "        return str(text)"
   ]
  },
  {
   "cell_type": "markdown",
   "id": "ce8e5169",
   "metadata": {},
   "source": [
    "### Class for brand management"
   ]
  },
  {
   "cell_type": "code",
   "execution_count": 7,
   "id": "f7fa5919",
   "metadata": {},
   "outputs": [],
   "source": [
    "brands_training = offers_training_df['brand'].unique()\n",
    "brands_test = offers_test_df['brand'].unique()"
   ]
  },
  {
   "cell_type": "code",
   "execution_count": 8,
   "id": "6d7f5cfd",
   "metadata": {},
   "outputs": [],
   "source": [
    "def similarity(str_1, str_2):\n",
    "    return textdistance.levenshtein.normalized_similarity(str_1, str_2)"
   ]
  },
  {
   "cell_type": "code",
   "execution_count": 9,
   "id": "57bfa0a1",
   "metadata": {},
   "outputs": [],
   "source": [
    "class Brand:\n",
    "    def __init__(self, name, parent=None, child=list()):\n",
    "        self.name = name\n",
    "        self.parent = parent\n",
    "        self.child = child\n",
    "    "
   ]
  },
  {
   "cell_type": "code",
   "execution_count": 18,
   "id": "850b3c9a",
   "metadata": {},
   "outputs": [],
   "source": [
    "class BrandCollection:\n",
    "    def __init__(self, brand_list):\n",
    "        self.brands = {}\n",
    "        self.brand_family = {}\n",
    "        self.manual_matches = {}\n",
    "        #brand_list = [TextTransformer(x).processed_text() for x in brand_list]\n",
    "        brand_list.sort()\n",
    "        for el in brand_list:\n",
    "            self.process_brand(Brand(el))\n",
    "    \n",
    "    def process_brand(self, brand):\n",
    "        if brand.name not in self.brands:\n",
    "            parent_likelyhood = 0\n",
    "            likely_parent = None\n",
    "            for k in self.brands.keys():\n",
    "                comp = self.brands[k]\n",
    "                l_comp = self.listify(comp, brand)\n",
    "                l_brand = self.listify(brand, comp)\n",
    "                calc_likelyhood = self.parent_likelyhood(l_comp, l_brand)\n",
    "                if calc_likelyhood > parent_likelyhood:\n",
    "                    parent_likelyhood = calc_likelyhood\n",
    "                    brand.parent = comp\n",
    "                    likely_parent = self.brands[comp.name]\n",
    "            self.brands[brand.name] = brand\n",
    "            self.brand_family[brand] = []\n",
    "            if likely_parent is not None:\n",
    "                self.brand_family[likely_parent].append(brand)\n",
    "    \n",
    "    def listify(self, brand, to_compare):\n",
    "        l_brand = brand.name.split()\n",
    "        l_comp = to_compare.name.split()\n",
    "        max_len = len(l_brand) if len(l_brand) > len(l_comp) else len(l_comp)\n",
    "        if len(l_brand) == max_len:\n",
    "            return l_brand\n",
    "        for i in range(max_len - len(l_brand)):\n",
    "            l_brand += ['']\n",
    "        return l_brand\n",
    "    \n",
    "    def parent_likelyhood(self, l_comp, l_brand):\n",
    "        likelyhood = 0\n",
    "        #check longest matching n-gram, does not check for combinations\n",
    "        for i in range(len(l_comp)):\n",
    "            if l_comp[i] == l_brand[i]:\n",
    "                likelyhood += 1\n",
    "            else:\n",
    "                return likelyhood\n",
    "        return likelyhood\n",
    "    \n",
    "    def similarity(self, str_1, str_2):\n",
    "        return textdistance.levenshtein.normalized_similarity(str_1, str_2)\n",
    "    \n",
    "    def get_match(self, brand_query):\n",
    "        brand_to_search = Brand(TextTransformer(brand_query).processed_text())\n",
    "        if brand_to_search.name in self.brands:\n",
    "            selected_brand = self.brands[brand_to_search.name]\n",
    "            while selected_brand.parent is not None:\n",
    "                selected_brand = selected_brand.parent\n",
    "            brands = self.get_brand_family(selected_brand.name)\n",
    "            return brands, 1\n",
    "        else:\n",
    "            relevance = 0\n",
    "            most_relevant = '-'\n",
    "            for key in self.brands.keys():\n",
    "                sim = self.similarity(brand_to_search.name, self.brands[key].name)\n",
    "                if sim > relevance:\n",
    "                    relevance = sim\n",
    "                    most_relevant = self.brands[key].name\n",
    "            brands = self.get_brand_family(most_relevant)\n",
    "            return brands, relevance\n",
    "            \n",
    "    def get_brand_family(self, brand_name):\n",
    "        fam_list = [brand_name]\n",
    "        family = []\n",
    "        while len(fam_list) != 0:\n",
    "            current = fam_list[0]\n",
    "            fam_list += [b.name for b in self.brand_family[self.brands[current]]]\n",
    "            fam_list.remove(current)\n",
    "            if current not in family:\n",
    "                family += [current]\n",
    "        if brand_name in self.manual_matches.keys():\n",
    "            family += self.manual_matches[brand_name]\n",
    "        return family     \n",
    "    \n",
    "    def add_manual_match(self, brand_a, brand_b):\n",
    "        if brand_a not in self.manual_matches.keys():\n",
    "            self.manual_matches[brand_a] = [brand_b]\n",
    "        else:\n",
    "            if brand_b not in self.manual_matches[brand_a]:\n",
    "                self.manual_matches[brand_a] += [brand_b]\n",
    "                \n",
    "        if brand_b not in self.manual_matches.keys():\n",
    "            self.manual_matches[brand_b] = [brand_a]\n",
    "        else:\n",
    "            if brand_a not in self.manual_matches[brand_b]:\n",
    "                self.manual_matches[brand_b] += [brand_a]"
   ]
  },
  {
   "cell_type": "markdown",
   "id": "6d4e10be",
   "metadata": {},
   "source": [
    "### Product name matching VSM - BM25"
   ]
  },
  {
   "cell_type": "code",
   "execution_count": 11,
   "id": "4e4476a8",
   "metadata": {},
   "outputs": [],
   "source": [
    "class TextRelevance:\n",
    "    def __init__(self, text, relevance):\n",
    "        self.text = text\n",
    "        self.relevance = relevance\n",
    "    def __repr__(self):\n",
    "        return self.text + ' ' + str(self.relevance)\n",
    "    def __eq__(self, other):\n",
    "        return self.text == other.text\n",
    "    def __hash__(self):\n",
    "        return hash(self.text)"
   ]
  },
  {
   "cell_type": "code",
   "execution_count": 12,
   "id": "fd2fc30f",
   "metadata": {},
   "outputs": [],
   "source": [
    "class BM25Z(BM25L):\n",
    "    def __init__(self, corpus):\n",
    "        super().__init__(self.process_list(corpus))\n",
    "        self.corpus = self.process_list(corpus)\n",
    "    def process_list(self, titles_list):\n",
    "        return [text.split() for text in titles_list if text is not None]\n",
    "    def processed_text(self, text):\n",
    "        return TextTransformer(text).processed_text()\n",
    "    def get_corpus_str(self):\n",
    "        return [' '.join(el) for el in self.corpus]\n",
    "    def get_corpus_scores(self, query):\n",
    "        query = self.processed_text(query).split()\n",
    "        return [TextRelevance(x,y) for x, y in zip(self.get_corpus_str(), self.get_scores(query))]\n",
    "    def get_relevant_results(self, query, threshold=0):\n",
    "        res = [el for el in self.get_corpus_scores(query) if el.relevance > threshold]\n",
    "        res = sorted(res, key=lambda x: x.relevance, reverse=True)\n",
    "        return res"
   ]
  },
  {
   "cell_type": "code",
   "execution_count": 13,
   "id": "64a9aa36",
   "metadata": {},
   "outputs": [],
   "source": [
    "\n",
    "zalando_prod_training = offers_training_df.loc[offers_training_df['shop'] == 'zalando']\n",
    "zalando_prod_training = zalando_prod_training\\\n",
    "                    .loc[zalando_prod_training['offer_id'].isin(matches_training_df['zalando'])]\n",
    "zalando_prod_training['brand'] = zalando_prod_training['brand']\\\n",
    "                    .apply(lambda x: TextTransformer(x).processed_text())\n",
    "zalando_prod_training['title'] = zalando_prod_training['title']\\\n",
    "                    .apply(lambda x: TextTransformer(x).processed_text())\n",
    "zalando_prod_training['color'] = zalando_prod_training['color']\\\n",
    "                    .apply(lambda x: TextTransformer(x).processed_text())\n",
    "#zalando_prod_training['description'] = zalando_prod_training['description']\\\n",
    "#                    .apply(lambda x: TextTransformer(x).processed_text())\n",
    "\n",
    "aboutyou_prod_training = offers_training_df.loc[offers_training_df['shop'] == 'aboutyou']\n",
    "aboutyou_prod_training['brand'] = aboutyou_prod_training['brand']\\\n",
    "                    .apply(lambda x: TextTransformer(x).processed_text())\n",
    "aboutyou_prod_training['title'] = aboutyou_prod_training['title']\\\n",
    "                    .apply(lambda x: TextTransformer(x).processed_text())\n",
    "aboutyou_prod_training['color'] = aboutyou_prod_training['color']\\\n",
    "                    .apply(lambda x: TextTransformer(x).processed_text())\n",
    "#aboutyou_prod_training['description'] = aboutyou_prod_training['description']\\\n",
    "#                    .apply(lambda x: TextTransformer(x).processed_text())\n",
    "\n",
    "fields = ['shop','offer_id', 'brand', 'title', 'description']"
   ]
  },
  {
   "cell_type": "markdown",
   "id": "b03f29ed",
   "metadata": {},
   "source": [
    "### Instance of matchers"
   ]
  },
  {
   "cell_type": "code",
   "execution_count": 19,
   "id": "6e847485",
   "metadata": {},
   "outputs": [],
   "source": [
    "brand_collection = BrandCollection(list(zalando_prod_training['brand']) + list(aboutyou_prod_training['brand']))\n",
    "\n",
    "bm25matcher_title = BM25Z(list(aboutyou_prod_training['title']))\n",
    "\n",
    "bm25matcher_color = BM25Z(list(aboutyou_prod_training['color']))\n",
    "\n",
    "#bm25matcher_descr = BM25Z(list(aboutyou_prod_training['description']))"
   ]
  },
  {
   "cell_type": "code",
   "execution_count": 15,
   "id": "3563e346",
   "metadata": {},
   "outputs": [
    {
     "data": {
      "text/plain": [
       "[kleid tiers for you 2.3874386855653182,\n",
       " kleid seamless mini slip 2.3874386855653182,\n",
       " kleid glory vipe aura 2.3874386855653182,\n",
       " kleid forget me not mini 2.2565443356396204,\n",
       " bequem bio baumwolle vielseitig kleid 2.2565443356396204,\n",
       " kleid colour up my life 2.2565443356396204,\n",
       " sweatshirt kleid magic hell off 2.2565443356396204,\n",
       " kleid ponte sl dress party dress 2.1602590496475047,\n",
       " kleid vmdiana 3 4 calf shirt dress wvn 2.0280922519612052,\n",
       " kleid vmfilli calia ss short dress ga color 2.0280922519612052]"
      ]
     },
     "execution_count": 15,
     "metadata": {},
     "output_type": "execute_result"
    }
   ],
   "source": [
    "bm25matcher_title.get_relevant_results('kleid')[-10:]"
   ]
  },
  {
   "cell_type": "markdown",
   "id": "e28e6922",
   "metadata": {},
   "source": [
    "### Brand likelyhood"
   ]
  },
  {
   "cell_type": "markdown",
   "id": "386ecbb3",
   "metadata": {},
   "source": [
    "Some products are listed under different brand names, identify them using groundtruth"
   ]
  },
  {
   "cell_type": "code",
   "execution_count": 20,
   "id": "9012d9d7",
   "metadata": {},
   "outputs": [
    {
     "data": {
      "text/plain": [
       "(['lascana',\n",
       "  'vivance',\n",
       "  'jette',\n",
       "  'nuance',\n",
       "  'petite fleur gold',\n",
       "  'petite fleur'],\n",
       " 1)"
      ]
     },
     "execution_count": 20,
     "metadata": {},
     "output_type": "execute_result"
    }
   ],
   "source": [
    "def brand_manual_matching():\n",
    "    for i in range(len(matches_training_df)):\n",
    "        groundtruth_match = matches_training_df.loc[i]\n",
    "        z_id, a_id = groundtruth_match['zalando'], groundtruth_match['aboutyou']\n",
    "        zalando_brand = zalando_prod_training\\\n",
    "                        .loc[zalando_prod_training['offer_id'] == z_id]['brand'].values[0]\n",
    "        aboutyou_brand = aboutyou_prod_training\\\n",
    "                        .loc[aboutyou_prod_training['offer_id'] == a_id]['brand'].values[0]\n",
    "        \n",
    "        brand_to_match = brand_collection.get_match(zalando_brand)[0]        \n",
    "        if aboutyou_brand not in brand_to_match:\n",
    "            for z_brand in brand_to_match:\n",
    "                brand_collection.add_manual_match(z_brand, aboutyou_brand)\n",
    "        \n",
    "brand_manual_matching()\n",
    "brand_collection.get_match('lascana')"
   ]
  },
  {
   "cell_type": "code",
   "execution_count": 16,
   "id": "bce18c1d",
   "metadata": {},
   "outputs": [],
   "source": [
    "def brand_likely_matches(n):\n",
    "    \"\"\"\n",
    "    n is the row number of the product in aboutyou dataset\n",
    "    try to compare 1 zalando product with aboutyou products\n",
    "    \"\"\"\n",
    "    try:\n",
    "        prod_to_match = zalando_prod_training.loc[n]\n",
    "        id_prod = prod_to_match['offer_id']\n",
    "    except:\n",
    "        return {'zalando_id' : None, 'aboutyou_ids' : []}\n",
    "    #get subset of possible brands to investigate\n",
    "    match_brands, rel = brand_collection.get_match(prod_to_match['brand'])\n",
    "    aboutyou_prod_brand_match = aboutyou_prod_training\\\n",
    "                                .loc[aboutyou_prod_training['brand']\\\n",
    "                                .isin(match_brands)]\n",
    "        \n",
    "    if len(aboutyou_prod_brand_match['title']) == 0:\n",
    "        return {'zalando_id' : id_prod, 'aboutyou_ids' : []}\n",
    "    \n",
    "    return {'zalando_id' : id_prod, 'aboutyou_ids' : list(aboutyou_prod_brand_match['offer_id'])}"
   ]
  },
  {
   "cell_type": "markdown",
   "id": "02fb4868",
   "metadata": {},
   "source": [
    "### Title likelyhood\n",
    "Title matching with BM25 categorize correctly up to 58% of offers, with good accuracy (number of results per query): 0.6214"
   ]
  },
  {
   "cell_type": "code",
   "execution_count": 14,
   "id": "6f720bf1",
   "metadata": {},
   "outputs": [],
   "source": [
    "def title_likely_matches(n):\n",
    "    try:\n",
    "        prod_to_match = zalando_prod_training.loc[n]\n",
    "        id_prod = prod_to_match['offer_id']\n",
    "    except:\n",
    "        return {'zalando_id' : None, 'aboutyou_ids' : []}\n",
    "    \n",
    "    match_titles_relevance = list(dict.fromkeys(bm25matcher_title.get_relevant_results(prod_to_match['title'])))\n",
    "    match_titles = [x.text for x in match_titles_relevance]\n",
    "\n",
    "    aboutyou_prod_title_match = aboutyou_prod_training\\\n",
    "                                .loc[aboutyou_prod_training['title']\\\n",
    "                                .isin(match_titles)]\n",
    "    \n",
    "    if len(aboutyou_prod_title_match['title']) == 0:\n",
    "        return {'zalando_id' : id_prod, 'aboutyou_ids' : []}\n",
    "    \n",
    "    return {'zalando_id' : id_prod, 'aboutyou_ids' : list(aboutyou_prod_title_match['offer_id'])}"
   ]
  },
  {
   "cell_type": "code",
   "execution_count": 15,
   "id": "83afff0e",
   "metadata": {},
   "outputs": [],
   "source": [
    "def color_likely_matches(n):\n",
    "    try:\n",
    "        prod_to_match = zalando_prod_training.loc[n]\n",
    "        id_prod = prod_to_match['offer_id']\n",
    "    except:\n",
    "        return {'zalando_id' : None, 'aboutyou_ids' : []}\n",
    "    \n",
    "    match_titles_relevance = list(dict.fromkeys(bm25matcher_color.get_relevant_results(prod_to_match['color'])))\n",
    "    match_titles = [x.text for x in match_titles_relevance]\n",
    "\n",
    "    aboutyou_prod_color_match = aboutyou_prod_training\\\n",
    "                                .loc[aboutyou_prod_training['color']\\\n",
    "                                .isin(match_titles)]\n",
    "    \n",
    "    if len(aboutyou_prod_color_match['color']) == 0:\n",
    "        return {'zalando_id' : id_prod, 'aboutyou_ids' : []}\n",
    "    \n",
    "    return {'zalando_id' : id_prod, 'aboutyou_ids' : list(aboutyou_prod_color_match['offer_id'])}"
   ]
  },
  {
   "cell_type": "code",
   "execution_count": 16,
   "id": "891e20dd",
   "metadata": {},
   "outputs": [],
   "source": [
    "#bm25matcher_color.idf\n",
    "#aboutyou_prod_training[['color']].head(30)"
   ]
  },
  {
   "cell_type": "code",
   "execution_count": 17,
   "id": "416ab743",
   "metadata": {},
   "outputs": [],
   "source": [
    "def descr_likely_matches(n):\n",
    "    try:\n",
    "        prod_to_match = zalando_prod_training.loc[n]\n",
    "        id_prod = prod_to_match['offer_id']\n",
    "    except:\n",
    "        return {'zalando_id' : None, 'aboutyou_ids' : []}\n",
    "    \n",
    "    match_titles_relevance = list(dict.fromkeys(bm25matcher_descr.get_relevant_results(prod_to_match['description'])))\n",
    "    match_titles = [x.text for x in match_titles_relevance]\n",
    "\n",
    "    aboutyou_prod_descr_match = aboutyou_prod_training\\\n",
    "                                .loc[aboutyou_prod_training['description']\\\n",
    "                                .isin(match_titles)]\n",
    "    \n",
    "    if len(aboutyou_prod_descr_match['color']) == 0:\n",
    "        return {'zalando_id' : id_prod, 'aboutyou_ids' : []}\n",
    "    \n",
    "    return {'zalando_id' : id_prod, 'aboutyou_ids' : list(aboutyou_prod_descr_match['offer_id'])}"
   ]
  },
  {
   "cell_type": "markdown",
   "id": "e5182a99",
   "metadata": {},
   "source": [
    "### Price analysis\n",
    "Using groundtruth to understand price differences"
   ]
  },
  {
   "cell_type": "code",
   "execution_count": 18,
   "id": "df75a27f",
   "metadata": {},
   "outputs": [],
   "source": [
    "from scipy import stats"
   ]
  },
  {
   "cell_type": "code",
   "execution_count": 19,
   "id": "c0760cc4",
   "metadata": {},
   "outputs": [],
   "source": [
    "def get_price_difference(limit = 500):\n",
    "    price_diff = []\n",
    "    for i in range(len(matches_training_df)):\n",
    "        z_id = matches_training_df.loc[i]['zalando']\n",
    "        a_id = matches_training_df.loc[i]['aboutyou']\n",
    "        z_price = offers_training_df.loc[offers_training_df['offer_id'] == z_id]['price'].values[0]\n",
    "        a_price = offers_training_df.loc[offers_training_df['offer_id'] == a_id]['price'].values[0]\n",
    "        price_diff += [np.abs(round(z_price - a_price, 2))] if not np.isnan(z_price - a_price) else []\n",
    "        if i > limit-1:\n",
    "            break\n",
    "    return price_diff\n",
    "price_diff = get_price_difference(1000)"
   ]
  },
  {
   "cell_type": "code",
   "execution_count": 20,
   "id": "ae5f0e53",
   "metadata": {},
   "outputs": [
    {
     "data": {
      "image/png": "[encoded data removed]",
      "text/plain": [
       "<Figure size 432x288 with 1 Axes>"
      ]
     },
     "metadata": {
      "needs_background": "light"
     },
     "output_type": "display_data"
    }
   ],
   "source": [
    "a = np.hstack(price_diff)\n",
    "plt.hist(a, bins=20)\n",
    "plt.show()"
   ]
  },
  {
   "cell_type": "code",
   "execution_count": 21,
   "id": "cc60efc4",
   "metadata": {},
   "outputs": [
    {
     "data": {
      "text/plain": [
       "0.049000000000000044"
      ]
     },
     "execution_count": 21,
     "metadata": {},
     "output_type": "execute_result"
    }
   ],
   "source": [
    "def price_probability(abs_diff):\n",
    "    price_diff_list = price_diff[:]\n",
    "    price_diff_list.sort()\n",
    "    i = 0\n",
    "    while price_diff_list[i] < abs_diff:\n",
    "        if i == len(price_diff_list) - 1:\n",
    "            return 0\n",
    "        i += 1\n",
    "    return 1 - i/len(price_diff_list)\n",
    "\n",
    "def price_likely_matches(n):\n",
    "    pass\n",
    "\n",
    "price_probability(10)"
   ]
  },
  {
   "cell_type": "code",
   "execution_count": 22,
   "id": "012bbaa8",
   "metadata": {},
   "outputs": [],
   "source": [
    "def get_n_matches(n, fn_likely_matches):\n",
    "    likely_matches = []\n",
    "    i = 0\n",
    "    while len(likely_matches) != n:\n",
    "        m = fn_likely_matches(i)\n",
    "        if m['zalando_id'] != None:\n",
    "            likely_matches += [fn_likely_matches(i)]\n",
    "        i += 1\n",
    "    return likely_matches\n",
    "\n",
    "brand_matches = get_n_matches(10, brand_likely_matches)\n",
    "title_matches = get_n_matches(10, title_likely_matches)\n",
    "color_matches = get_n_matches(10, color_likely_matches)\n",
    "#descr_matches = get_n_matches(100, descr_likely_matches)"
   ]
  },
  {
   "cell_type": "code",
   "execution_count": 23,
   "id": "60d8f4ec",
   "metadata": {},
   "outputs": [
    {
     "name": "stdout",
     "output_type": "stream",
     "text": [
      "brand matching: 0.9 over: 10 matches, accuracy: 0.2213172804532578\n",
      "title matching: 0.6 over: 10 matches, accuracy: 0.8394895903290799\n",
      "color matching: 0.5 over: 10 matches, accuracy: 0.11216295033424559\n"
     ]
    }
   ],
   "source": [
    "def is_present(predicted_match):\n",
    "    zalando_id = predicted_match['zalando_id']\n",
    "    return len(matches_training_df.loc[matches_training_df['zalando'] == zalando_id]['aboutyou'])\n",
    "\n",
    "def is_match(predicted_match):\n",
    "    zalando_id = predicted_match['zalando_id']\n",
    "    if is_present(predicted_match):\n",
    "        match = matches_training_df\\\n",
    "        .loc[matches_training_df['zalando'] == zalando_id]['aboutyou'].values[0]\n",
    "        \n",
    "        #zalando_brand = zalando_prod_training\\\n",
    "        #                .loc[zalando_prod_training['offer_id'] == zalando_id]['brand'].values[0]\n",
    "        #zalando_title = zalando_prod_training\\\n",
    "        #                .loc[zalando_prod_training['offer_id'] == zalando_id]['title'].values[0]\n",
    "        \n",
    "        #aboutyou_match_truth_id = matches_training_df\\\n",
    "        #                .loc[matches_training_df['zalando'] == zalando_id]['aboutyou'].values[0]\n",
    "        #aboutyou_brand = aboutyou_prod_training\\\n",
    "        #                .loc[aboutyou_prod_training['offer_id'] == aboutyou_match_truth_id]['brand'].values[0]\n",
    "        #aboutyou_title = aboutyou_prod_training\\\n",
    "        #                .loc[aboutyou_prod_training['offer_id'] == aboutyou_match_truth_id]['title'].values[0]\n",
    "        \n",
    "        #print(#'zalando brand:', zalando_brand, \n",
    "              #'aboutyou brand:', aboutyou_brand, \n",
    "        #      'zalando title:', zalando_title, \n",
    "        #      '- aboutyou_title:', aboutyou_title)\n",
    "        isin = match in predicted_match['aboutyou_ids']\n",
    "        if not isin:\n",
    "            print(zalando_brand, aboutyou_brand)\n",
    "        return isin\n",
    "    return None\n",
    "\n",
    "def print_weight(str_feature, matches):\n",
    "    print(str_feature + ' matching:', \n",
    "      calc_match_rate(matches),\n",
    "      'over:', len(matches), 'matches,',\n",
    "      'accuracy:', calc_match_accuracy(matches)\n",
    "     )\n",
    "    \n",
    "def calc_match_rate(matches):\n",
    "    return [is_match(matches[i]) for i in range(len(matches))].count(True) / len(matches)\n",
    "\n",
    "def calc_match_accuracy(matches, scale=1000):\n",
    "    return scale / np.mean([len(matches[i]['aboutyou_ids']) for i in range(len(matches))])\n",
    "\n",
    "\n",
    "#print_weight('brand', brand_matches)\n",
    "#print_weight('title', title_matches)\n",
    "#print_weight('color', color_matches)\n",
    "#print_weight('descr', descr_matches)"
   ]
  },
  {
   "cell_type": "code",
   "execution_count": 24,
   "id": "9d2211fb",
   "metadata": {},
   "outputs": [
    {
     "data": {
      "image/png": "[encoded data removed]",
      "text/plain": [
       "<Figure size 432x288 with 1 Axes>"
      ]
     },
     "metadata": {
      "needs_background": "light"
     },
     "output_type": "display_data"
    }
   ],
   "source": [
    "def get_matches_coords(matches):\n",
    "    x = np.arange(1, len(matches))\n",
    "    y_list = []\n",
    "    for i in range(1, len(matches)):\n",
    "        #y_list += [calc_match_accuracy(matches[0:i]) * calc_match_rate(matches[0:i])]\n",
    "        y_list += [calc_match_rate(matches[0:i])]\n",
    "    y = np.array(y_list)\n",
    "    return x, y\n",
    "\n",
    "b_x, b_y = get_matches_coords(brand_matches)\n",
    "t_x, t_y = get_matches_coords(title_matches)\n",
    "c_x, c_y = get_matches_coords(color_matches)\n",
    "#d_x, d_y = get_matches_coords(descr_matches)\n",
    "\n",
    "p_brands = plt.scatter(b_x, b_y)\n",
    "p_titles = plt.scatter(t_x, t_y)\n",
    "p_colors = plt.scatter(c_x, c_y)\n",
    "#p_descrs = plt.scatter(d_x, d_y)\n",
    "\n",
    "plt.legend((p_brands, p_titles, p_colors),\n",
    "           ('Brands', 'Titles', 'Colors'),\n",
    "           scatterpoints=1,\n",
    "           fontsize=8)\n",
    "\n",
    "plt.show()"
   ]
  },
  {
   "cell_type": "code",
   "execution_count": 25,
   "id": "24b2e7ce",
   "metadata": {},
   "outputs": [
    {
     "name": "stdout",
     "output_type": "stream",
     "text": [
      "0.969\n"
     ]
    }
   ],
   "source": [
    "def calculate_match_score(zalando_offer_id, aboutyou_offer_id):\n",
    "    zalando_offer = zalando_prod_training.loc[zalando_prod_training['offer_id'] == zalando_offer_id]\n",
    "    aboutyou_offer = aboutyou_prod_training.loc[aboutyou_prod_training['offer_id'] == aboutyou_offer_id]\n",
    "    zalando_index = zalando_offer.index.values[0]\n",
    "    \n",
    "    brand_weight = 0.969\n",
    "    brand_matches = brand_likely_matches(zalando_index)\n",
    "    brand_in = aboutyou_offer_id in brand_matches['aboutyou_ids']\n",
    "    \n",
    "    title_weight = 0.579\n",
    "    title_matches = title_likely_matches(zalando_index)\n",
    "    title_in = aboutyou_offer_id in title_matches['aboutyou_ids']\n",
    "    \n",
    "    color_weight = 0.637\n",
    "    color_matches = color_likely_matches(zalando_index)\n",
    "    color_in = aboutyou_offer_id in color_matches['aboutyou_ids']\n",
    "    \n",
    "    score = int(brand_in) * brand_weight + int(title_in) * title_weight + int(color_in) * color_weight\n",
    "    print(score)\n",
    "\n",
    "calculate_match_score('b33f55d6-0149-4063-8b63-3eeae63562a2', 'ad5ceb87-0254-4171-b650-1d4d09f48efc')"
   ]
  },
  {
   "cell_type": "code",
   "execution_count": null,
   "id": "9ae17315",
   "metadata": {},
   "outputs": [],
   "source": []
  }
 ],
 "metadata": {
  "kernelspec": {
   "display_name": "Python 3 (ipykernel)",
   "language": "python",
   "name": "python3"
  },
  "language_info": {
   "codemirror_mode": {
    "name": "ipython",
    "version": 3
   },
   "file_extension": ".py",
   "mimetype": "text/x-python",
   "name": "python",
   "nbconvert_exporter": "python",
   "pygments_lexer": "ipython3",
   "version": "3.7.3"
  }
 },
 "nbformat": 4,
 "nbformat_minor": 5
}
