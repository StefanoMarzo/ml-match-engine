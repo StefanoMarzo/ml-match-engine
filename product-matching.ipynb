{
 "cells": [
  {
   "cell_type": "code",
   "execution_count": 1,
   "id": "f365cc7c",
   "metadata": {},
   "outputs": [],
   "source": [
    "# libraries\n",
    "import os\n",
    "from datetime import datetime\n",
    "import pandas as pd\n",
    "import numpy as np\n",
    "import matplotlib.pyplot as plt\n",
    "from random import choices\n",
    "from itertools import chain\n",
    "# Levenshtein Distance in Python\n",
    "import textdistance\n",
    "import re\n",
    "import unicodedata\n",
    "import time\n",
    "from rank_bm25 import BM25Okapi, BM25L\n",
    "# https://github.com/seatgeek/thefuzz\n",
    "from thefuzz import fuzz, process\n",
    "\n",
    "# Matplotlib configuration\n",
    "font = { 'family': 'DejaVu Sans', 'weight': 'bold', 'size': 16 }\n",
    "plt.rc('font', **font)\n",
    "\n",
    "# Pandas config\n",
    "pd.options.mode.chained_assignment = None  # default='warn'"
   ]
  },
  {
   "cell_type": "markdown",
   "id": "027b2f9a",
   "metadata": {},
   "source": [
    "### Load grouftruth dataset"
   ]
  },
  {
   "cell_type": "code",
   "execution_count": 2,
   "id": "57d90cd3",
   "metadata": {},
   "outputs": [],
   "source": [
    "matches_training_df = pd.read_parquet('data/matches_training.parquet')"
   ]
  },
  {
   "cell_type": "code",
   "execution_count": 3,
   "id": "1063e56e",
   "metadata": {},
   "outputs": [],
   "source": [
    "# set random seed\n",
    "np.random.seed(seed=42)"
   ]
  },
  {
   "cell_type": "markdown",
   "id": "6c0197ec",
   "metadata": {},
   "source": [
    "### Offers training"
   ]
  },
  {
   "cell_type": "code",
   "execution_count": 4,
   "id": "876c36cb",
   "metadata": {},
   "outputs": [],
   "source": [
    "#offers_training_df = pd.read_parquet('offers_training.parquet')\n",
    "#offers_test_df = pd.read_parquet('offers_test.parquet')"
   ]
  },
  {
   "cell_type": "markdown",
   "id": "10760054",
   "metadata": {},
   "source": [
    "### Run utils script\n",
    "Loads functions for exploration and metrics"
   ]
  },
  {
   "cell_type": "code",
   "execution_count": 5,
   "id": "e8872b7f",
   "metadata": {},
   "outputs": [],
   "source": [
    "%run ./utils/utils.py"
   ]
  },
  {
   "cell_type": "markdown",
   "id": "a0bb8917",
   "metadata": {},
   "source": [
    "## Brand analysis"
   ]
  },
  {
   "cell_type": "markdown",
   "id": "74ecbc25",
   "metadata": {},
   "source": [
    "### Brand text processing\n",
    "- Lower case text\n",
    "- Accented vowels removal `è, é, ... -> e`\n",
    "- Stop words removal (German)"
   ]
  },
  {
   "cell_type": "code",
   "execution_count": 6,
   "id": "3b29dde8",
   "metadata": {},
   "outputs": [],
   "source": [
    "stop_word_list = []\n",
    "\n",
    "with open('processing/text_processing/german_stopwords.txt', \"r\") as f:\n",
    "    stop_word_list = f.read().split()"
   ]
  },
  {
   "cell_type": "code",
   "execution_count": 7,
   "id": "030b1c91",
   "metadata": {},
   "outputs": [],
   "source": [
    "class TextTransformer:\n",
    "    def processed_text(self, text):\n",
    "        if text is None:\n",
    "            return ''\n",
    "        #lower\n",
    "        processed = text.lower()\n",
    "        #remove accents\n",
    "        processed = self.simplify(processed)\n",
    "        #remove special characters\n",
    "        processed = ''.join(c if c.isalnum() or c == ' ' else ' ' for c in processed)\n",
    "        #remove unnecessary double spaces\n",
    "        processed = re.sub(' +', ' ', processed)\n",
    "        #strip\n",
    "        processed = processed.strip()\n",
    "        #remove stopwords\n",
    "        processed_list = [word for word in processed.split() if word not in stop_word_list]\n",
    "        return ' '.join(processed_list)\n",
    "    \n",
    "    def simplify(self, text):\n",
    "        try:\n",
    "            text = unicode(text, 'utf-8')\n",
    "        except NameError:\n",
    "            pass\n",
    "        text = unicodedata.normalize('NFD', text).encode('ascii', 'ignore').decode(\"utf-8\")\n",
    "        return str(text)"
   ]
  },
  {
   "cell_type": "markdown",
   "id": "ddfdb8a3",
   "metadata": {},
   "source": [
    "### Read files for german colors transformation"
   ]
  },
  {
   "cell_type": "code",
   "execution_count": 8,
   "id": "b9b5f8b3",
   "metadata": {},
   "outputs": [],
   "source": [
    "with open('processing/color_processing/kfix_de.txt') as f:\n",
    "    color_kfix_list = f.read().splitlines() \n",
    "\n",
    "with open('processing/color_processing/primary_colors_de.txt') as f:\n",
    "    primary_colors = f.read().splitlines() \n",
    "color_matches = {}\n",
    "with open('processing/color_processing/color_matches_de.txt') as f:\n",
    "    for line in f:\n",
    "        (key, val) = line.split(':')\n",
    "        val = val.strip()\n",
    "        color_matches[key] = val"
   ]
  },
  {
   "cell_type": "markdown",
   "id": "1d98a0df",
   "metadata": {},
   "source": [
    "### Read files for german titles transformation"
   ]
  },
  {
   "cell_type": "code",
   "execution_count": 9,
   "id": "e816452a",
   "metadata": {},
   "outputs": [],
   "source": [
    "with open('processing/title_processing/kfix_de.txt') as f:\n",
    "    clothes_kfix_list = f.read().splitlines() \n",
    "\n",
    "with open('processing/title_processing/primary_clothes_de.txt') as f:\n",
    "    primary_clothes = f.read().splitlines() \n",
    "clothes_matches = {}\n",
    "with open('processing/title_processing/clothes_matches_de.txt') as f:\n",
    "    for line in f:\n",
    "        (key, val) = line.split(':')\n",
    "        val = val.strip()\n",
    "        clothes_matches[key] = val"
   ]
  },
  {
   "cell_type": "code",
   "execution_count": 10,
   "id": "563b4da5",
   "metadata": {},
   "outputs": [],
   "source": [
    "class SpecificTrasformer(TextTransformer):\n",
    "    def __init__(self,\n",
    "                 kfix_list, \n",
    "                 matches, \n",
    "                 primary):\n",
    "        self.kfix_list = kfix_list\n",
    "        self.matches = matches\n",
    "        self.primary = primary\n",
    "    def separe_word(self, text, word):\n",
    "        i = text.find(word)\n",
    "        text = text[:i] + ' ' + text[i:] if i != -1 else text\n",
    "        return text[:i+len(word)+1] + ' ' + text[i+len(word)+1:] if i != -1 else text\n",
    "    def separe_words(self, text):\n",
    "        for color in self.primary:\n",
    "            text = self.separe_word(text, color)\n",
    "        return text\n",
    "    def replace_words(self, text):\n",
    "        for k, v in self.matches.items():\n",
    "            text = text.replace(k, v)\n",
    "        return text\n",
    "    def remove_kfix(self, text):\n",
    "        for suffix in self.kfix_list:\n",
    "            text = text.replace(suffix, '')\n",
    "        return text\n",
    "    \n",
    "    def processed_text(self, text):\n",
    "        splitted = super().processed_text(text).split()\n",
    "        #1 transform matches\n",
    "        splitted = [self.replace_words(text) for text in splitted]\n",
    "        #2 suffix removal\n",
    "        splitted = [self.remove_kfix(text) for text in splitted]\n",
    "        #separate primary colors\n",
    "        splitted = [self.separe_words(term) for term in splitted]\n",
    "        return re.sub(' +', ' ', ' '.join(splitted).strip())"
   ]
  },
  {
   "cell_type": "markdown",
   "id": "79e5299e",
   "metadata": {},
   "source": [
    "### Instance of text transformers"
   ]
  },
  {
   "cell_type": "code",
   "execution_count": 11,
   "id": "0568080f",
   "metadata": {},
   "outputs": [],
   "source": [
    "tt = TextTransformer()\n",
    "ct = SpecificTrasformer(color_kfix_list, color_matches, primary_colors)\n",
    "titlet = SpecificTrasformer(clothes_kfix_list, clothes_matches, primary_clothes)"
   ]
  },
  {
   "cell_type": "markdown",
   "id": "ce8e5169",
   "metadata": {},
   "source": [
    "### Class for brand management"
   ]
  },
  {
   "cell_type": "code",
   "execution_count": 12,
   "id": "f7fa5919",
   "metadata": {},
   "outputs": [],
   "source": [
    "brands_training = offers_training_df['brand'].unique()\n",
    "brands_test = offers_test_df['brand'].unique()"
   ]
  },
  {
   "cell_type": "code",
   "execution_count": 13,
   "id": "6d7f5cfd",
   "metadata": {},
   "outputs": [],
   "source": [
    "def similarity(str_1, str_2):\n",
    "    return textdistance.levenshtein.normalized_similarity(str_1, str_2)"
   ]
  },
  {
   "cell_type": "code",
   "execution_count": 14,
   "id": "57bfa0a1",
   "metadata": {},
   "outputs": [],
   "source": [
    "class Brand:\n",
    "    def __init__(self, name, parent=None, child=list()):\n",
    "        self.name = name\n",
    "        self.parent = parent\n",
    "        self.child = child"
   ]
  },
  {
   "cell_type": "code",
   "execution_count": 15,
   "id": "850b3c9a",
   "metadata": {},
   "outputs": [],
   "source": [
    "class BrandCollection:\n",
    "    def __init__(self, brand_list):\n",
    "        self.brands = {}\n",
    "        self.brand_family = {}\n",
    "        self.manual_matches = {}\n",
    "        #brand_list = [TextTransformer(x).processed_text() for x in brand_list]\n",
    "        brand_list.sort()\n",
    "        for el in brand_list:\n",
    "            self.process_brand(Brand(el))\n",
    "    \n",
    "    def process_brand(self, brand):\n",
    "        if brand.name not in self.brands:\n",
    "            parent_likelyhood = 0\n",
    "            likely_parent = None\n",
    "            for k in self.brands.keys():\n",
    "                comp = self.brands[k]\n",
    "                l_comp = self.listify(comp, brand)\n",
    "                l_brand = self.listify(brand, comp)\n",
    "                calc_likelyhood = self.parent_likelyhood(l_comp, l_brand)\n",
    "                if calc_likelyhood > parent_likelyhood:\n",
    "                    parent_likelyhood = calc_likelyhood\n",
    "                    brand.parent = comp\n",
    "                    likely_parent = self.brands[comp.name]\n",
    "            self.brands[brand.name] = brand\n",
    "            self.brand_family[brand] = []\n",
    "            if likely_parent is not None:\n",
    "                self.brand_family[likely_parent].append(brand)\n",
    "    \n",
    "    def listify(self, brand, to_compare):\n",
    "        l_brand = brand.name.split()\n",
    "        l_comp = to_compare.name.split()\n",
    "        max_len = len(l_brand) if len(l_brand) > len(l_comp) else len(l_comp)\n",
    "        if len(l_brand) == max_len:\n",
    "            return l_brand\n",
    "        for i in range(max_len - len(l_brand)):\n",
    "            l_brand += ['']\n",
    "        return l_brand\n",
    "    \n",
    "    def parent_likelyhood(self, l_comp, l_brand):\n",
    "        likelyhood = 0\n",
    "        #check longest matching n-gram, does not check for combinations\n",
    "        for i in range(len(l_comp)):\n",
    "            if l_comp[i] == l_brand[i]:\n",
    "                likelyhood += 1\n",
    "            else:\n",
    "                return likelyhood\n",
    "        return likelyhood\n",
    "    \n",
    "    def similarity(self, str_1, str_2):\n",
    "        return textdistance.levenshtein.normalized_similarity(str_1, str_2)\n",
    "    \n",
    "    def get_match(self, brand_query):\n",
    "        brand_to_search = Brand(tt.processed_text(brand_query))\n",
    "        if brand_to_search.name in self.brands:\n",
    "            selected_brand = self.brands[brand_to_search.name]\n",
    "            while selected_brand.parent is not None:\n",
    "                selected_brand = selected_brand.parent\n",
    "            brands = self.get_brand_family(selected_brand.name)\n",
    "            return brands, 1\n",
    "        else:\n",
    "            relevance = 0\n",
    "            most_relevant = '-'\n",
    "            for key in self.brands.keys():\n",
    "                sim = self.similarity(brand_to_search.name, self.brands[key].name)\n",
    "                if sim > relevance:\n",
    "                    relevance = sim\n",
    "                    most_relevant = self.brands[key].name\n",
    "            brands = self.get_brand_family(most_relevant)\n",
    "            return brands, relevance\n",
    "            \n",
    "    def get_brand_family(self, brand_name):\n",
    "        fam_list = [brand_name]\n",
    "        family = []\n",
    "        while len(fam_list) != 0:\n",
    "            current = fam_list[0]\n",
    "            fam_list += [b.name for b in self.brand_family[self.brands[current]]]\n",
    "            fam_list.remove(current)\n",
    "            if current not in family:\n",
    "                family += [current]\n",
    "        if brand_name in self.manual_matches.keys():\n",
    "            family += self.manual_matches[brand_name]\n",
    "        return list(set(family))\n",
    "    \n",
    "    def add_manual_match(self, brand_a, brand_b):\n",
    "        if brand_a not in self.manual_matches.keys():\n",
    "            self.manual_matches[brand_a] = [brand_b]\n",
    "        else:\n",
    "            if brand_b not in self.manual_matches[brand_a]:\n",
    "                self.manual_matches[brand_a] += [brand_b]\n",
    "                \n",
    "        if brand_b not in self.manual_matches.keys():\n",
    "            self.manual_matches[brand_b] = [brand_a]\n",
    "        else:\n",
    "            if brand_a not in self.manual_matches[brand_b]:\n",
    "                self.manual_matches[brand_b] += [brand_a]"
   ]
  },
  {
   "cell_type": "markdown",
   "id": "6d4e10be",
   "metadata": {},
   "source": [
    "### Product name matching VSM - BM25"
   ]
  },
  {
   "cell_type": "code",
   "execution_count": 16,
   "id": "4e4476a8",
   "metadata": {},
   "outputs": [],
   "source": [
    "class TextRelevance:\n",
    "    def __init__(self, text, relevance):\n",
    "        self.text = text\n",
    "        self.relevance = relevance\n",
    "    def __repr__(self):\n",
    "        return self.text + ' ' + str(self.relevance)\n",
    "    def __eq__(self, other):\n",
    "        return self.text == other.text\n",
    "    def __hash__(self):\n",
    "        return hash(self.text)"
   ]
  },
  {
   "cell_type": "code",
   "execution_count": 17,
   "id": "fd2fc30f",
   "metadata": {},
   "outputs": [],
   "source": [
    "class BM25Z(BM25L):\n",
    "    def __init__(self, corpus):\n",
    "        super().__init__(self.process_list(corpus))\n",
    "        self.corpus = self.process_list(corpus)\n",
    "    def process_list(self, titles_list):\n",
    "        return [text.split() for text in titles_list if text is not None]\n",
    "    def processed_text(self, text):\n",
    "        return tt.processed_text(text)\n",
    "    def get_corpus_str(self):\n",
    "        return [' '.join(el) for el in self.corpus]\n",
    "    def get_corpus_scores(self, query):\n",
    "        query = self.processed_text(query).split()\n",
    "        return [TextRelevance(x,y) for x, y in zip(self.get_corpus_str(), self.get_scores(query))]\n",
    "    def get_relevant_results(self, query, threshold=0):\n",
    "        res = [el for el in self.get_corpus_scores(query) if el.relevance > threshold]\n",
    "        res = sorted(res, key=lambda x: x.relevance, reverse=True)\n",
    "        return res"
   ]
  },
  {
   "cell_type": "markdown",
   "id": "525cea99",
   "metadata": {},
   "source": [
    "### Clean dataset"
   ]
  },
  {
   "cell_type": "code",
   "execution_count": 18,
   "id": "64a9aa36",
   "metadata": {},
   "outputs": [],
   "source": [
    "zalando_prod_training = offers_training_df.loc[offers_training_df['shop'] == 'zalando']\n",
    "zalando_prod_training = zalando_prod_training\\\n",
    "                    .loc[zalando_prod_training['offer_id'].isin(matches_training_df['zalando'])]\n",
    "zalando_prod_training['brand'] = zalando_prod_training['brand']\\\n",
    "                    .apply(lambda x: tt.processed_text(x))\n",
    "zalando_prod_training['title'] = zalando_prod_training['title']\\\n",
    "                    .apply(lambda x: titlet.processed_text(x))\n",
    "zalando_prod_training['color'] = zalando_prod_training['color']\\\n",
    "                    .apply(lambda x: ct.processed_text(x))\n",
    "#zalando_prod_training['description'] = zalando_prod_training['description']\\\n",
    "#                    .apply(lambda x: TextTransformer(x).processed_text())\n",
    "\n",
    "aboutyou_prod_training = offers_training_df.loc[offers_training_df['shop'] == 'aboutyou']\n",
    "aboutyou_prod_training['brand'] = aboutyou_prod_training['brand']\\\n",
    "                    .apply(lambda x: tt.processed_text(x))\n",
    "aboutyou_prod_training['title'] = aboutyou_prod_training['title']\\\n",
    "                    .apply(lambda x: titlet.processed_text(x))\n",
    "aboutyou_prod_training['color'] = aboutyou_prod_training['color']\\\n",
    "                    .apply(lambda x: ct.processed_text(x))\n",
    "#aboutyou_prod_training['description'] = aboutyou_prod_training['description']\\\n",
    "#                    .apply(lambda x: TextTransformer(x).processed_text())\n",
    "\n",
    "fields = ['shop','offer_id', 'brand', 'title', 'description']"
   ]
  },
  {
   "cell_type": "markdown",
   "id": "dd131378",
   "metadata": {},
   "source": [
    "### Instance of matchers"
   ]
  },
  {
   "cell_type": "code",
   "execution_count": 19,
   "id": "80c15ca0",
   "metadata": {},
   "outputs": [],
   "source": [
    "brand_collection = BrandCollection(list(zalando_prod_training['brand']) + list(aboutyou_prod_training['brand']))\n",
    "\n",
    "bm25matcher_title = BM25Z(list(aboutyou_prod_training['title']))\n",
    "\n",
    "bm25matcher_color = BM25Z(list(aboutyou_prod_training['color']))\n",
    "\n",
    "#bm25matcher_descr = BM25Z(list(aboutyou_prod_training['description']))"
   ]
  },
  {
   "cell_type": "code",
   "execution_count": 20,
   "id": "3563e346",
   "metadata": {},
   "outputs": [],
   "source": [
    "#bm25matcher_title.get_relevant_results('kleid')[-10:]"
   ]
  },
  {
   "cell_type": "markdown",
   "id": "e28e6922",
   "metadata": {},
   "source": [
    "### Brand likelyhood"
   ]
  },
  {
   "cell_type": "markdown",
   "id": "b1c0b037",
   "metadata": {},
   "source": [
    "Some products are listed under different brand names, identify them using groundtruth"
   ]
  },
  {
   "cell_type": "code",
   "execution_count": 21,
   "id": "1035b892",
   "metadata": {},
   "outputs": [],
   "source": [
    "def brand_manual_matching():\n",
    "    for i in range(len(matches_training_df)):\n",
    "        groundtruth_match = matches_training_df.loc[i]\n",
    "        z_id, a_id = groundtruth_match['zalando'], groundtruth_match['aboutyou']\n",
    "        zalando_brand = zalando_prod_training\\\n",
    "                        .loc[zalando_prod_training['offer_id'] == z_id]['brand'].values[0]\n",
    "        aboutyou_brand = aboutyou_prod_training\\\n",
    "                        .loc[aboutyou_prod_training['offer_id'] == a_id]['brand'].values[0]\n",
    "        \n",
    "        brand_to_match = brand_collection.get_match(zalando_brand)[0]        \n",
    "        if aboutyou_brand not in brand_to_match:\n",
    "            for z_brand in brand_to_match:\n",
    "                brand_collection.add_manual_match(z_brand, aboutyou_brand)"
   ]
  },
  {
   "cell_type": "markdown",
   "id": "1247af62",
   "metadata": {},
   "source": [
    "### Training brands using groundtruth matches"
   ]
  },
  {
   "cell_type": "code",
   "execution_count": 22,
   "id": "b4215155",
   "metadata": {},
   "outputs": [],
   "source": [
    "brand_manual_matching() #UNABLED enable it again"
   ]
  },
  {
   "cell_type": "code",
   "execution_count": 23,
   "id": "bce18c1d",
   "metadata": {},
   "outputs": [],
   "source": [
    "def brand_likely_matches(n):\n",
    "    \"\"\"\n",
    "    n is the row number of the product in aboutyou dataset\n",
    "    try to compare 1 zalando product with aboutyou products\n",
    "    \"\"\"\n",
    "    try:\n",
    "        prod_to_match = zalando_prod_training.loc[n]\n",
    "        id_prod = prod_to_match['offer_id']\n",
    "    except:\n",
    "        return {'zalando_id' : None, 'aboutyou_ids' : []}\n",
    "    #get subset of possible brands to investigate\n",
    "    match_brands, rel = brand_collection.get_match(prod_to_match['brand'])\n",
    "    aboutyou_prod_brand_match = aboutyou_prod_training\\\n",
    "                                .loc[aboutyou_prod_training['brand']\\\n",
    "                                .isin(match_brands)]\n",
    "        \n",
    "    if len(aboutyou_prod_brand_match['title']) == 0:\n",
    "        return {'zalando_id' : id_prod, 'aboutyou_ids' : []}\n",
    "    \n",
    "    return {'zalando_id' : id_prod, 'aboutyou_ids' : list(aboutyou_prod_brand_match['offer_id'])}"
   ]
  },
  {
   "cell_type": "markdown",
   "id": "02fb4868",
   "metadata": {},
   "source": [
    "### Title likelyhood\n",
    "Title matching with BM25 categorize correctly up to 58% of offers, with good accuracy (number of results per query): 0.6214"
   ]
  },
  {
   "cell_type": "code",
   "execution_count": 24,
   "id": "6f720bf1",
   "metadata": {},
   "outputs": [],
   "source": [
    "def title_likely_matches(n):\n",
    "    try:\n",
    "        prod_to_match = zalando_prod_training.loc[n]\n",
    "        id_prod = prod_to_match['offer_id']\n",
    "    except:\n",
    "        return {'zalando_id' : None, 'aboutyou_ids' : []}\n",
    "    \n",
    "    match_titles_relevance = list(dict.fromkeys(bm25matcher_title.get_relevant_results(prod_to_match['title'])))\n",
    "    match_titles = [x.text for x in match_titles_relevance]\n",
    "\n",
    "    aboutyou_prod_title_match = aboutyou_prod_training\\\n",
    "                                .loc[aboutyou_prod_training['title']\\\n",
    "                                .isin(match_titles)]\n",
    "    \n",
    "    if len(aboutyou_prod_title_match['title']) == 0:\n",
    "        return {'zalando_id' : id_prod, 'aboutyou_ids' : []}\n",
    "    \n",
    "    return {'zalando_id' : id_prod, 'aboutyou_ids' : list(aboutyou_prod_title_match['offer_id'])}"
   ]
  },
  {
   "cell_type": "code",
   "execution_count": 25,
   "id": "c1a68590",
   "metadata": {},
   "outputs": [],
   "source": [
    "def print_color_matches():\n",
    "    for i in range(0, len(matches_training_df)):\n",
    "        groundtruth_match = matches_training_df.loc[i]\n",
    "        z_id, a_id = groundtruth_match['zalando'], groundtruth_match['aboutyou']\n",
    "        z_color = zalando_prod_training\\\n",
    "                        .loc[zalando_prod_training['offer_id'] == z_id]['color'].values[0]\n",
    "        a_color = aboutyou_prod_training\\\n",
    "                        .loc[aboutyou_prod_training['offer_id'] == a_id]['color'].values[0]\n",
    "        print(z_color, '-', a_color)\n",
    "#print_color_matches()"
   ]
  },
  {
   "cell_type": "code",
   "execution_count": 26,
   "id": "83afff0e",
   "metadata": {},
   "outputs": [],
   "source": [
    "def color_likely_matches(n):\n",
    "    try:\n",
    "        prod_to_match = zalando_prod_training.loc[n]\n",
    "        id_prod = prod_to_match['offer_id']\n",
    "    except:\n",
    "        return {'zalando_id' : None, 'aboutyou_ids' : []}\n",
    "    \n",
    "    match_titles_relevance = list(dict.fromkeys(bm25matcher_color.get_relevant_results(prod_to_match['color'])))\n",
    "    match_titles = [x.text for x in match_titles_relevance]\n",
    "\n",
    "    aboutyou_prod_color_match = aboutyou_prod_training\\\n",
    "                                .loc[aboutyou_prod_training['color']\\\n",
    "                                .isin(match_titles)]\n",
    "    \n",
    "    if len(aboutyou_prod_color_match['color']) == 0:\n",
    "        return {'zalando_id' : id_prod, 'aboutyou_ids' : []}\n",
    "    \n",
    "    return {'zalando_id' : id_prod, 'aboutyou_ids' : list(aboutyou_prod_color_match['offer_id'])}"
   ]
  },
  {
   "cell_type": "code",
   "execution_count": 27,
   "id": "891e20dd",
   "metadata": {},
   "outputs": [],
   "source": [
    "#bm25matcher_color.idf\n",
    "#aboutyou_prod_training[['color']].head(30)"
   ]
  },
  {
   "cell_type": "code",
   "execution_count": 28,
   "id": "416ab743",
   "metadata": {},
   "outputs": [],
   "source": [
    "def descr_likely_matches(n):\n",
    "    try:\n",
    "        prod_to_match = zalando_prod_training.loc[n]\n",
    "        id_prod = prod_to_match['offer_id']\n",
    "    except:\n",
    "        return {'zalando_id' : None, 'aboutyou_ids' : []}\n",
    "    \n",
    "    match_titles_relevance = list(dict.fromkeys(bm25matcher_descr.get_relevant_results(prod_to_match['description'])))\n",
    "    match_titles = [x.text for x in match_titles_relevance]\n",
    "\n",
    "    aboutyou_prod_descr_match = aboutyou_prod_training\\\n",
    "                                .loc[aboutyou_prod_training['description']\\\n",
    "                                .isin(match_titles)]\n",
    "    \n",
    "    if len(aboutyou_prod_descr_match['color']) == 0:\n",
    "        return {'zalando_id' : id_prod, 'aboutyou_ids' : []}\n",
    "    \n",
    "    return {'zalando_id' : id_prod, 'aboutyou_ids' : list(aboutyou_prod_descr_match['offer_id'])}"
   ]
  },
  {
   "cell_type": "markdown",
   "id": "e5182a99",
   "metadata": {},
   "source": [
    "### Price analysis\n",
    "Using groundtruth to understand price differences"
   ]
  },
  {
   "cell_type": "code",
   "execution_count": 29,
   "id": "df75a27f",
   "metadata": {},
   "outputs": [],
   "source": [
    "from scipy import stats"
   ]
  },
  {
   "cell_type": "code",
   "execution_count": 30,
   "id": "c0760cc4",
   "metadata": {},
   "outputs": [],
   "source": [
    "def get_price_difference(limit = 500):\n",
    "    price_diff = []\n",
    "    for i in range(len(matches_training_df)):\n",
    "        z_id = matches_training_df.loc[i]['zalando']\n",
    "        a_id = matches_training_df.loc[i]['aboutyou']\n",
    "        z_price = offers_training_df.loc[offers_training_df['offer_id'] == z_id]['price'].values[0]\n",
    "        a_price = offers_training_df.loc[offers_training_df['offer_id'] == a_id]['price'].values[0]\n",
    "        price_diff += [np.abs(round((z_price - a_price)/z_price, 2))] if not np.isnan(z_price - a_price) else []\n",
    "        if i > limit-1:\n",
    "            break\n",
    "    return price_diff"
   ]
  },
  {
   "cell_type": "markdown",
   "id": "0c060992",
   "metadata": {},
   "source": [
    "### Train the model for price difference"
   ]
  },
  {
   "cell_type": "code",
   "execution_count": 31,
   "id": "ccb000a9",
   "metadata": {},
   "outputs": [],
   "source": [
    "price_diff = get_price_difference(10000)"
   ]
  },
  {
   "cell_type": "code",
   "execution_count": 32,
   "id": "ae5f0e53",
   "metadata": {},
   "outputs": [
    {
     "data": {
      "image/png": "[encoded data removed]",
      "text/plain": [
       "<Figure size 432x288 with 1 Axes>"
      ]
     },
     "metadata": {
      "needs_background": "light"
     },
     "output_type": "display_data"
    }
   ],
   "source": [
    "a = np.hstack(price_diff)\n",
    "plt.hist(a, bins=20)\n",
    "plt.show()"
   ]
  },
  {
   "cell_type": "code",
   "execution_count": 33,
   "id": "cc60efc4",
   "metadata": {},
   "outputs": [
    {
     "data": {
      "text/plain": [
       "0"
      ]
     },
     "execution_count": 33,
     "metadata": {},
     "output_type": "execute_result"
    }
   ],
   "source": [
    "def price_likely_match(abs_diff):\n",
    "    price_diff_list = price_diff[:]\n",
    "    price_diff_list.sort()\n",
    "    i = 0\n",
    "    while price_diff_list[i] < abs_diff:\n",
    "        if i == len(price_diff_list) - 1:\n",
    "            return 0\n",
    "        i += 1\n",
    "    return 1 - i/len(price_diff_list)\n",
    "\n",
    "price_likely_match(10)"
   ]
  },
  {
   "cell_type": "code",
   "execution_count": 34,
   "id": "012bbaa8",
   "metadata": {},
   "outputs": [],
   "source": [
    "def get_n_matches(n, fn_likely_matches):\n",
    "    likely_matches = []\n",
    "    i = 0\n",
    "    while len(likely_matches) != n:\n",
    "        m = fn_likely_matches(i)\n",
    "        if m['zalando_id'] != None:\n",
    "            likely_matches += [fn_likely_matches(i)]\n",
    "        i += 1\n",
    "    return likely_matches\n",
    "\n",
    "#brand_matches = get_n_matches(10, brand_likely_matches)\n",
    "#title_matches = get_n_matches(len(matches_training_df), title_likely_matches)\n",
    "#color_matches = get_n_matches(len(matches_training_df), color_likely_matches)\n",
    "#descr_matches = get_n_matches(100, descr_likely_matches)"
   ]
  },
  {
   "cell_type": "code",
   "execution_count": 35,
   "id": "60d8f4ec",
   "metadata": {},
   "outputs": [],
   "source": [
    "def is_present(predicted_match):\n",
    "    zalando_id = predicted_match['zalando_id']\n",
    "    return len(matches_training_df.loc[matches_training_df['zalando'] == zalando_id]['aboutyou'])\n",
    "\n",
    "def print_attributes_values(z_id, a_id, attribute):\n",
    "    z_a = zalando_prod_training\\\n",
    "                        .loc[zalando_prod_training['offer_id'] == z_id][attribute].values[0]\n",
    "    a_a = aboutyou_prod_training\\\n",
    "                        .loc[aboutyou_prod_training['offer_id'] == a_id][attribute].values[0]\n",
    "    print(z_a, '-', a_a)\n",
    "\n",
    "def is_match(predicted_match):\n",
    "    zalando_id = predicted_match['zalando_id']\n",
    "    df_not_matched = pd.DataFrame(columns=['zalando', 'aboutyou'])\n",
    "    if is_present(predicted_match):\n",
    "        match = matches_training_df\\\n",
    "        .loc[matches_training_df['zalando'] == zalando_id]['aboutyou'].values[0]\n",
    "        \n",
    "        aboutyou_match_truth_id = matches_training_df\\\n",
    "                        .loc[matches_training_df['zalando'] == zalando_id]['aboutyou'].values[0]\n",
    "     \n",
    "        isin = match in predicted_match['aboutyou_ids']\n",
    "        row = {}\n",
    "        if not isin:\n",
    "            row = {'zalando':zalando_id, 'aboutyou': match}\n",
    "            print_attributes_values(zalando_id, aboutyou_match_truth_id, 'offer_id')\n",
    "            pass\n",
    "        return isin, row\n",
    "    return None\n",
    "\n",
    "def print_weight(str_feature, matches):\n",
    "    print(str_feature + ' matching:', \n",
    "      calc_match_rate(matches),\n",
    "      'over:', len(matches), 'matches,',\n",
    "      'accuracy:', calc_match_accuracy(matches)\n",
    "     )\n",
    "    \n",
    "def calc_match_rate(matches):\n",
    "    l = []\n",
    "    df_not_matched = pd.DataFrame(columns=['zalando', 'aboutyou'])\n",
    "    for i in range(len(matches)):\n",
    "        is_m, row = is_match(matches[i])\n",
    "        l += [is_m]\n",
    "        if not is_m:\n",
    "            df_not_matched = df_not_matched.append(row, ignore_index=True)\n",
    "    return l.count(True) / len(matches), df_not_matched\n",
    "\n",
    "def calc_match_accuracy(matches, scale=1000):\n",
    "    return scale / np.mean([len(matches[i]['aboutyou_ids']) for i in range(len(matches))])\n",
    "\n",
    "\n",
    "\n",
    "#print_weight('brand', brand_matches)\n",
    "#print_weight('title', title_matches)\n",
    "#rate, title_not_matched = calc_match_rate(title_matches)\n",
    "#print_weight('color', color_matches)\n",
    "#rate, color_not_matched = calc_match_rate(color_matches)\n",
    "#print_weight('descr', descr_matches)\n",
    "#title_not_matched"
   ]
  },
  {
   "cell_type": "code",
   "execution_count": 36,
   "id": "2f8d75cd",
   "metadata": {},
   "outputs": [],
   "source": [
    "#title_not_matched.to_parquet('title_not_matched.parquet')\n",
    "#len(title_not_matched)/len(matches_training_df)\n",
    "#color_not_matched.to_parquet('color_not_matched.parquet')\n",
    "#len(color_not_matched)/len(matches_training_df)"
   ]
  },
  {
   "cell_type": "code",
   "execution_count": 37,
   "id": "d1bad619",
   "metadata": {},
   "outputs": [],
   "source": [
    "def get_rank_score(el_list, el):\n",
    "    try:\n",
    "        rank = el_list.index(el)\n",
    "    except:\n",
    "        return 0\n",
    "    return (len(el_list) - rank) / len(el_list)"
   ]
  },
  {
   "cell_type": "code",
   "execution_count": 38,
   "id": "24b2e7ce",
   "metadata": {},
   "outputs": [],
   "source": [
    "def calculate_match_score(zalando_offer_id, aboutyou_offer_id, subset_offers=[]):\n",
    "\n",
    "    zalando_offer = zalando_prod_training.loc[zalando_prod_training['offer_id'] == zalando_offer_id]\n",
    "    aboutyou_offer = aboutyou_prod_training.loc[aboutyou_prod_training['offer_id'] == aboutyou_offer_id]\n",
    "    zalando_index = zalando_offer.index.values[0]\n",
    "    \n",
    "    brand_weight = 1\n",
    "    brand_matches = subset_offers#brand_likely_matches(zalando_index)\n",
    "    #brand_in = aboutyou_offer_id in brand_matches['aboutyou_ids']\n",
    "    brand_in = aboutyou_offer_id in brand_matches\n",
    "    brand_score = int(brand_in)\n",
    "    \n",
    "    title_weight = 1\n",
    "    title_matches = subset_offers#title_likely_matches(zalando_index)\n",
    "    #title_score = get_rank_score(title_matches['aboutyou_ids'], aboutyou_offer_id)\n",
    "    title_score = get_rank_score(title_matches, aboutyou_offer_id)\n",
    "    \n",
    "    color_weight = 1\n",
    "    color_matches = subset_offers#color_likely_matches(zalando_index)\n",
    "    #color_score = get_rank_score(color_matches['aboutyou_ids'], aboutyou_offer_id)\n",
    "    color_score = get_rank_score(color_matches, aboutyou_offer_id)\n",
    "    \n",
    "    price_weight = 1\n",
    "    z_p, a_p = zalando_offer['price'].values[0], aboutyou_offer['price'].values[0]\n",
    "    price_diff = np.abs((z_p - a_p) / z_p)\n",
    "    price_score = price_likely_match(price_diff)\n",
    "    \n",
    "    score = brand_score * brand_weight +\\\n",
    "            title_score * title_weight +\\\n",
    "            color_score * color_weight +\\\n",
    "            price_score * price_weight\n",
    "    return score\n",
    "\n",
    "#calculate_match_score('b33f55d6-0149-4063-8b63-3eeae63562a2', 'ad5ceb87-0254-4171-b650-1d4d09f48efc')"
   ]
  },
  {
   "cell_type": "code",
   "execution_count": 39,
   "id": "9ae17315",
   "metadata": {},
   "outputs": [],
   "source": [
    "#To limit the results and improve time efficency\n",
    "def get_matches(z_id):\n",
    "    zalando_offer = zalando_prod_training.loc[zalando_prod_training['offer_id'] == z_id]\n",
    "    brand_name = zalando_offer['brand'].values[0]\n",
    "    match_brands = brand_collection.get_match(brand_name)[0]\n",
    "    \n",
    "    #Brand Match\n",
    "    aboutyou_prod_brand_match = set(aboutyou_prod_training\\\n",
    "                                .loc[aboutyou_prod_training['brand']\\\n",
    "                                .isin(match_brands)]['offer_id'].values)\n",
    "    \n",
    "    #Title Match\n",
    "    match_titles_relevance = list(dict.fromkeys(bm25matcher_title.get_relevant_results(zalando_offer['title'].values[0])))\n",
    "    match_titles = [x.text for x in match_titles_relevance]\n",
    "    aboutyou_prod_title_match = set(aboutyou_prod_training\\\n",
    "                                .loc[aboutyou_prod_training['title']\\\n",
    "                                .isin(match_titles)]['offer_id'].values)\n",
    "    \n",
    "    #Color Match\n",
    "    match_color_relevance = list(dict.fromkeys(bm25matcher_color.get_relevant_results(zalando_offer['color'].values[0])))\n",
    "    match_color = [x.text for x in match_color_relevance]\n",
    "    aboutyou_prod_color_match = set(aboutyou_prod_training\\\n",
    "                                .loc[aboutyou_prod_training['color']\\\n",
    "                                .isin(match_color)]['offer_id'].values)\n",
    "    \n",
    "    match_intersect_set = aboutyou_prod_brand_match\\\n",
    "                            .intersection(aboutyou_prod_color_match)\\\n",
    "                            .intersection(aboutyou_prod_title_match)\n",
    "    \n",
    "    return match_intersect_set"
   ]
  },
  {
   "cell_type": "code",
   "execution_count": 40,
   "id": "d63acd3d",
   "metadata": {},
   "outputs": [],
   "source": [
    "def get_best_match(z_id, a_ids_list, limit=1):\n",
    "    df_score = pd.DataFrame(columns=['zalando', 'aboutyou', 'score'])\n",
    "    for id in a_ids_list:\n",
    "        row = {'zalando':z_id, 'aboutyou': id, 'score': calculate_match_score(z_id, id, a_ids_list)}\n",
    "        df_score = df_score.append(row, ignore_index=True)\n",
    "    return df_score.sort_values(by=['score'], ascending=False).head(limit)\n",
    "\n",
    "\n",
    "#m = get_best_match('b33f55d6-0149-4063-8b63-3eeae63562a2', matches_training_df['aboutyou'].values[0:1000])"
   ]
  },
  {
   "cell_type": "code",
   "execution_count": 41,
   "id": "a219881f",
   "metadata": {},
   "outputs": [],
   "source": [
    "def create_matches_df(z_ids_list, result_per_item=10):\n",
    "    df_predicted_matches = pd.DataFrame(columns=['zalando', 'aboutyou', 'score'])\n",
    "    df_best_n_matches = pd.DataFrame(columns=['zalando', 'aboutyou', 'score'])\n",
    "    for z_id in z_ids_list:\n",
    "        subset_comp = get_matches(z_id)\n",
    "        prediction = get_best_match(z_id, subset_comp, result_per_item)\n",
    "        df_predicted_matches = df_predicted_matches.append(prediction.head(1), ignore_index=True)\n",
    "        df_best_n_matches = df_best_n_matches.append(prediction, ignore_index=True)\n",
    "        #print(len(prediction))\n",
    "        #print(len(df_best_n_matches))\n",
    "    return df_predicted_matches, df_best_n_matches"
   ]
  },
  {
   "cell_type": "code",
   "execution_count": null,
   "id": "1bd4f067",
   "metadata": {},
   "outputs": [],
   "source": [
    "start = time.time()\n",
    "pred, best_n_matches = create_matches_df(list(matches_training_df['zalando'].values))\n",
    "get_matches(list(matches_training_df['zalando'].values)[0])\n",
    "end = time.time()\n",
    "print('Computation time:', round(end-start, 4), 'sec')"
   ]
  },
  {
   "cell_type": "code",
   "execution_count": null,
   "id": "6fde921c",
   "metadata": {},
   "outputs": [],
   "source": [
    "get_metrics(\n",
    "            matches_training_df.loc[:len(pred)+1], \n",
    "            pred, \n",
    "            best_n_matches, \n",
    "            aboutyou_prod_training, \n",
    "            matches_training_df\n",
    "           )"
   ]
  },
  {
   "cell_type": "code",
   "execution_count": null,
   "id": "23879a42",
   "metadata": {},
   "outputs": [],
   "source": [
    "explore_match(pred.loc[1], matches_training_df)"
   ]
  },
  {
   "cell_type": "code",
   "execution_count": null,
   "id": "43c42872",
   "metadata": {},
   "outputs": [],
   "source": []
  },
  {
   "cell_type": "code",
   "execution_count": null,
   "id": "3de1d285",
   "metadata": {},
   "outputs": [],
   "source": []
  }
 ],
 "metadata": {
  "kernelspec": {
   "display_name": "Python 3 (ipykernel)",
   "language": "python",
   "name": "python3"
  },
  "language_info": {
   "codemirror_mode": {
    "name": "ipython",
    "version": 3
   },
   "file_extension": ".py",
   "mimetype": "text/x-python",
   "name": "python",
   "nbconvert_exporter": "python",
   "pygments_lexer": "ipython3",
   "version": "3.7.3"
  }
 },
 "nbformat": 4,
 "nbformat_minor": 5
}
